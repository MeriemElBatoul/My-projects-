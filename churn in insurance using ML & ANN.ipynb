{
 "cells": [
  {
   "cell_type": "code",
   "execution_count": 25,
   "id": "95415447-ccef-4316-81d9-a5568a13fbc0",
   "metadata": {},
   "outputs": [
    {
     "name": "stdout",
     "output_type": "stream",
     "text": [
      "Defaulting to user installation because normal site-packages is not writeable\n",
      "Requirement already satisfied: pandas in c:\\programdata\\anaconda3\\lib\\site-packages (2.1.4)\n",
      "Requirement already satisfied: numpy<2,>=1.23.2 in c:\\programdata\\anaconda3\\lib\\site-packages (from pandas) (1.26.4)\n",
      "Requirement already satisfied: python-dateutil>=2.8.2 in c:\\programdata\\anaconda3\\lib\\site-packages (from pandas) (2.8.2)\n",
      "Requirement already satisfied: pytz>=2020.1 in c:\\programdata\\anaconda3\\lib\\site-packages (from pandas) (2023.3.post1)\n",
      "Requirement already satisfied: tzdata>=2022.1 in c:\\programdata\\anaconda3\\lib\\site-packages (from pandas) (2023.3)\n",
      "Requirement already satisfied: six>=1.5 in c:\\programdata\\anaconda3\\lib\\site-packages (from python-dateutil>=2.8.2->pandas) (1.16.0)\n"
     ]
    }
   ],
   "source": [
    "!pip install pandas\n"
   ]
  },
  {
   "cell_type": "code",
   "execution_count": 3,
   "id": "5fc6f182-5dcd-4902-b9d8-2d6fa972451f",
   "metadata": {},
   "outputs": [
    {
     "name": "stdout",
     "output_type": "stream",
     "text": [
      "Defaulting to user installation because normal site-packages is not writeable\n",
      "Requirement already satisfied: matplotlib in c:\\programdata\\anaconda3\\lib\\site-packages (3.8.0)\n",
      "Requirement already satisfied: contourpy>=1.0.1 in c:\\programdata\\anaconda3\\lib\\site-packages (from matplotlib) (1.2.0)\n",
      "Requirement already satisfied: cycler>=0.10 in c:\\programdata\\anaconda3\\lib\\site-packages (from matplotlib) (0.11.0)\n",
      "Requirement already satisfied: fonttools>=4.22.0 in c:\\programdata\\anaconda3\\lib\\site-packages (from matplotlib) (4.25.0)\n",
      "Requirement already satisfied: kiwisolver>=1.0.1 in c:\\programdata\\anaconda3\\lib\\site-packages (from matplotlib) (1.4.4)\n",
      "Requirement already satisfied: numpy<2,>=1.21 in c:\\programdata\\anaconda3\\lib\\site-packages (from matplotlib) (1.26.4)\n",
      "Requirement already satisfied: packaging>=20.0 in c:\\programdata\\anaconda3\\lib\\site-packages (from matplotlib) (23.1)\n",
      "Requirement already satisfied: pillow>=6.2.0 in c:\\programdata\\anaconda3\\lib\\site-packages (from matplotlib) (10.2.0)\n",
      "Requirement already satisfied: pyparsing>=2.3.1 in c:\\programdata\\anaconda3\\lib\\site-packages (from matplotlib) (3.0.9)\n",
      "Requirement already satisfied: python-dateutil>=2.7 in c:\\programdata\\anaconda3\\lib\\site-packages (from matplotlib) (2.8.2)\n",
      "Requirement already satisfied: six>=1.5 in c:\\programdata\\anaconda3\\lib\\site-packages (from python-dateutil>=2.7->matplotlib) (1.16.0)\n"
     ]
    }
   ],
   "source": [
    "!pip install matplotlib\n"
   ]
  },
  {
   "cell_type": "code",
   "execution_count": 4,
   "id": "aefd13e0-7a66-4f0f-9178-d78761a297c0",
   "metadata": {},
   "outputs": [
    {
     "name": "stdout",
     "output_type": "stream",
     "text": [
      "Defaulting to user installation because normal site-packages is not writeable\n",
      "Requirement already satisfied: numpy in c:\\programdata\\anaconda3\\lib\\site-packages (1.26.4)\n"
     ]
    }
   ],
   "source": [
    "!pip install numpy"
   ]
  },
  {
   "cell_type": "code",
   "execution_count": 6,
   "id": "8fce5b1f-0828-42b0-94c8-3ba65108fa8e",
   "metadata": {},
   "outputs": [
    {
     "name": "stdout",
     "output_type": "stream",
     "text": [
      "Defaulting to user installation because normal site-packages is not writeable\n",
      "Requirement already satisfied: seaborn in c:\\programdata\\anaconda3\\lib\\site-packages (0.12.2)\n",
      "Requirement already satisfied: numpy!=1.24.0,>=1.17 in c:\\programdata\\anaconda3\\lib\\site-packages (from seaborn) (1.26.4)\n",
      "Requirement already satisfied: pandas>=0.25 in c:\\programdata\\anaconda3\\lib\\site-packages (from seaborn) (2.1.4)\n",
      "Requirement already satisfied: matplotlib!=3.6.1,>=3.1 in c:\\programdata\\anaconda3\\lib\\site-packages (from seaborn) (3.8.0)\n",
      "Requirement already satisfied: contourpy>=1.0.1 in c:\\programdata\\anaconda3\\lib\\site-packages (from matplotlib!=3.6.1,>=3.1->seaborn) (1.2.0)\n",
      "Requirement already satisfied: cycler>=0.10 in c:\\programdata\\anaconda3\\lib\\site-packages (from matplotlib!=3.6.1,>=3.1->seaborn) (0.11.0)\n",
      "Requirement already satisfied: fonttools>=4.22.0 in c:\\programdata\\anaconda3\\lib\\site-packages (from matplotlib!=3.6.1,>=3.1->seaborn) (4.25.0)\n",
      "Requirement already satisfied: kiwisolver>=1.0.1 in c:\\programdata\\anaconda3\\lib\\site-packages (from matplotlib!=3.6.1,>=3.1->seaborn) (1.4.4)\n",
      "Requirement already satisfied: packaging>=20.0 in c:\\programdata\\anaconda3\\lib\\site-packages (from matplotlib!=3.6.1,>=3.1->seaborn) (23.1)\n",
      "Requirement already satisfied: pillow>=6.2.0 in c:\\programdata\\anaconda3\\lib\\site-packages (from matplotlib!=3.6.1,>=3.1->seaborn) (10.2.0)\n",
      "Requirement already satisfied: pyparsing>=2.3.1 in c:\\programdata\\anaconda3\\lib\\site-packages (from matplotlib!=3.6.1,>=3.1->seaborn) (3.0.9)\n",
      "Requirement already satisfied: python-dateutil>=2.7 in c:\\programdata\\anaconda3\\lib\\site-packages (from matplotlib!=3.6.1,>=3.1->seaborn) (2.8.2)\n",
      "Requirement already satisfied: pytz>=2020.1 in c:\\programdata\\anaconda3\\lib\\site-packages (from pandas>=0.25->seaborn) (2023.3.post1)\n",
      "Requirement already satisfied: tzdata>=2022.1 in c:\\programdata\\anaconda3\\lib\\site-packages (from pandas>=0.25->seaborn) (2023.3)\n",
      "Requirement already satisfied: six>=1.5 in c:\\programdata\\anaconda3\\lib\\site-packages (from python-dateutil>=2.7->matplotlib!=3.6.1,>=3.1->seaborn) (1.16.0)\n"
     ]
    }
   ],
   "source": [
    "!pip install seaborn"
   ]
  },
  {
   "cell_type": "code",
   "execution_count": 1,
   "id": "14919d47-ed25-445b-8f77-fad73e6eb5bb",
   "metadata": {},
   "outputs": [],
   "source": [
    "import pandas as pd\n",
    "import numpy as np\n",
    "import matplotlib.pyplot as plt\n",
    "import seaborn as sns"
   ]
  },
  {
   "cell_type": "code",
   "execution_count": 2,
   "id": "8074a63a-0a72-4447-bdde-4af914acc245",
   "metadata": {},
   "outputs": [
    {
     "name": "stderr",
     "output_type": "stream",
     "text": [
      "C:\\Users\\dell\\AppData\\Local\\Temp\\ipykernel_27636\\979633458.py:1: DtypeWarning: Columns (3,6,8,9,10,11,14,15) have mixed types. Specify dtype option on import or set low_memory=False.\n",
      "  df= pd.read_csv(r\"C:\\Users\\dell\\Documents\\PRED_CSV.csv\",encoding=\"ISO-8859-1\",on_bad_lines=\"skip\",sep=\";\")\n"
     ]
    }
   ],
   "source": [
    "df= pd.read_csv(r\"C:\\Users\\dell\\Documents\\PRED_CSV.csv\",encoding=\"ISO-8859-1\",on_bad_lines=\"skip\",sep=\";\")"
   ]
  },
  {
   "cell_type": "code",
   "execution_count": 3,
   "id": "95801be1-289b-4cd9-9720-82bc3dd66278",
   "metadata": {},
   "outputs": [
    {
     "data": {
      "text/html": [
       "<div>\n",
       "<style scoped>\n",
       "    .dataframe tbody tr th:only-of-type {\n",
       "        vertical-align: middle;\n",
       "    }\n",
       "\n",
       "    .dataframe tbody tr th {\n",
       "        vertical-align: top;\n",
       "    }\n",
       "\n",
       "    .dataframe thead th {\n",
       "        text-align: right;\n",
       "    }\n",
       "</style>\n",
       "<table border=\"1\" class=\"dataframe\">\n",
       "  <thead>\n",
       "    <tr style=\"text-align: right;\">\n",
       "      <th></th>\n",
       "      <th>Monthono</th>\n",
       "      <th>Client</th>\n",
       "      <th>Classe</th>\n",
       "      <th>Date_effet</th>\n",
       "      <th>Filiale</th>\n",
       "      <th>ID</th>\n",
       "      <th>Prime</th>\n",
       "      <th>Branche</th>\n",
       "      <th>Code_DR</th>\n",
       "      <th>Code_agence</th>\n",
       "      <th>Date_echeance</th>\n",
       "      <th>Mois</th>\n",
       "      <th>Reglement</th>\n",
       "      <th>Produit</th>\n",
       "      <th>Date_declaration</th>\n",
       "      <th>Date_reglement</th>\n",
       "    </tr>\n",
       "  </thead>\n",
       "  <tbody>\n",
       "    <tr>\n",
       "      <th>0</th>\n",
       "      <td>NaN</td>\n",
       "      <td>APC</td>\n",
       "      <td>COLLECTIVITE LOCALE</td>\n",
       "      <td>30/03/2021</td>\n",
       "      <td>NON DEFINI</td>\n",
       "      <td>1100009189-3409</td>\n",
       "      <td>1700.0</td>\n",
       "      <td>AUTO</td>\n",
       "      <td>34</td>\n",
       "      <td>3409</td>\n",
       "      <td>29/03/2022</td>\n",
       "      <td>3</td>\n",
       "      <td>NaN</td>\n",
       "      <td>Automobile Flotte</td>\n",
       "      <td>NaN</td>\n",
       "      <td>NaN</td>\n",
       "    </tr>\n",
       "    <tr>\n",
       "      <th>1</th>\n",
       "      <td>NaN</td>\n",
       "      <td>APC</td>\n",
       "      <td>COLLECTIVITE LOCALE</td>\n",
       "      <td>30/03/2021</td>\n",
       "      <td>NON DEFINI</td>\n",
       "      <td>1100009189-3409</td>\n",
       "      <td>2302.26001</td>\n",
       "      <td>AUTO</td>\n",
       "      <td>34</td>\n",
       "      <td>3409</td>\n",
       "      <td>29/03/2022</td>\n",
       "      <td>3</td>\n",
       "      <td>NaN</td>\n",
       "      <td>Automobile Flotte</td>\n",
       "      <td>NaN</td>\n",
       "      <td>NaN</td>\n",
       "    </tr>\n",
       "    <tr>\n",
       "      <th>2</th>\n",
       "      <td>NaN</td>\n",
       "      <td>APC</td>\n",
       "      <td>COLLECTIVITE LOCALE</td>\n",
       "      <td>30/03/2021</td>\n",
       "      <td>NON DEFINI</td>\n",
       "      <td>1100009189-3409</td>\n",
       "      <td>500.0</td>\n",
       "      <td>AUTO</td>\n",
       "      <td>34</td>\n",
       "      <td>3409</td>\n",
       "      <td>29/03/2022</td>\n",
       "      <td>3</td>\n",
       "      <td>NaN</td>\n",
       "      <td>Automobile Flotte</td>\n",
       "      <td>NaN</td>\n",
       "      <td>NaN</td>\n",
       "    </tr>\n",
       "    <tr>\n",
       "      <th>3</th>\n",
       "      <td>NaN</td>\n",
       "      <td>APC</td>\n",
       "      <td>COLLECTIVITE LOCALE</td>\n",
       "      <td>30/03/2021</td>\n",
       "      <td>NON DEFINI</td>\n",
       "      <td>1100009189-3409</td>\n",
       "      <td>500.0</td>\n",
       "      <td>AUTO</td>\n",
       "      <td>34</td>\n",
       "      <td>3409</td>\n",
       "      <td>29/03/2022</td>\n",
       "      <td>3</td>\n",
       "      <td>NaN</td>\n",
       "      <td>Automobile Flotte</td>\n",
       "      <td>NaN</td>\n",
       "      <td>NaN</td>\n",
       "    </tr>\n",
       "    <tr>\n",
       "      <th>4</th>\n",
       "      <td>NaN</td>\n",
       "      <td>APC</td>\n",
       "      <td>COLLECTIVITE LOCALE</td>\n",
       "      <td>30/03/2021</td>\n",
       "      <td>NON DEFINI</td>\n",
       "      <td>1100009189-3409</td>\n",
       "      <td>3069.679932</td>\n",
       "      <td>AUTO</td>\n",
       "      <td>34</td>\n",
       "      <td>3409</td>\n",
       "      <td>29/03/2022</td>\n",
       "      <td>3</td>\n",
       "      <td>NaN</td>\n",
       "      <td>Automobile Flotte</td>\n",
       "      <td>NaN</td>\n",
       "      <td>NaN</td>\n",
       "    </tr>\n",
       "    <tr>\n",
       "      <th>...</th>\n",
       "      <td>...</td>\n",
       "      <td>...</td>\n",
       "      <td>...</td>\n",
       "      <td>...</td>\n",
       "      <td>...</td>\n",
       "      <td>...</td>\n",
       "      <td>...</td>\n",
       "      <td>...</td>\n",
       "      <td>...</td>\n",
       "      <td>...</td>\n",
       "      <td>...</td>\n",
       "      <td>...</td>\n",
       "      <td>...</td>\n",
       "      <td>...</td>\n",
       "      <td>...</td>\n",
       "      <td>...</td>\n",
       "    </tr>\n",
       "    <tr>\n",
       "      <th>899053</th>\n",
       "      <td>NaN</td>\n",
       "      <td>MIHOUBI MOHAMED AMINE</td>\n",
       "      <td>ENTREPRISE</td>\n",
       "      <td>NaN</td>\n",
       "      <td>NON DEFINI</td>\n",
       "      <td>2212000007-32401</td>\n",
       "      <td>NaN</td>\n",
       "      <td>DAA</td>\n",
       "      <td>23</td>\n",
       "      <td>32401</td>\n",
       "      <td>NaN</td>\n",
       "      <td>NaN</td>\n",
       "      <td>141040.000</td>\n",
       "      <td>Multirisque Bétail</td>\n",
       "      <td>12/12/2018</td>\n",
       "      <td>31/12/2018</td>\n",
       "    </tr>\n",
       "    <tr>\n",
       "      <th>899054</th>\n",
       "      <td>NaN</td>\n",
       "      <td>MIHOUBI MOHAMED AMINE</td>\n",
       "      <td>ENTREPRISE</td>\n",
       "      <td>NaN</td>\n",
       "      <td>NON DEFINI</td>\n",
       "      <td>2212000007-32401</td>\n",
       "      <td>NaN</td>\n",
       "      <td>DAA</td>\n",
       "      <td>23</td>\n",
       "      <td>32401</td>\n",
       "      <td>NaN</td>\n",
       "      <td>NaN</td>\n",
       "      <td>159600.000</td>\n",
       "      <td>Multirisque Bétail</td>\n",
       "      <td>16/12/2018</td>\n",
       "      <td>31/12/2018</td>\n",
       "    </tr>\n",
       "    <tr>\n",
       "      <th>899055</th>\n",
       "      <td>NaN</td>\n",
       "      <td>MIHOUBI MOHAMED AMINE</td>\n",
       "      <td>ENTREPRISE</td>\n",
       "      <td>NaN</td>\n",
       "      <td>NON DEFINI</td>\n",
       "      <td>2212000007-32401</td>\n",
       "      <td>NaN</td>\n",
       "      <td>DAA</td>\n",
       "      <td>23</td>\n",
       "      <td>32401</td>\n",
       "      <td>NaN</td>\n",
       "      <td>NaN</td>\n",
       "      <td>156600.000</td>\n",
       "      <td>Multirisque Bétail</td>\n",
       "      <td>16/12/2018</td>\n",
       "      <td>31/12/2018</td>\n",
       "    </tr>\n",
       "    <tr>\n",
       "      <th>899056</th>\n",
       "      <td>NaN</td>\n",
       "      <td>MEDI AQUA FISH</td>\n",
       "      <td>ENTREPRISE</td>\n",
       "      <td>NaN</td>\n",
       "      <td>NON DEFINI</td>\n",
       "      <td>2216000003-32408</td>\n",
       "      <td>NaN</td>\n",
       "      <td>DAA</td>\n",
       "      <td>23</td>\n",
       "      <td>32408</td>\n",
       "      <td>NaN</td>\n",
       "      <td>NaN</td>\n",
       "      <td>1106955.625</td>\n",
       "      <td>Multirisque Aquacole</td>\n",
       "      <td>06/10/2018</td>\n",
       "      <td>26/12/2018</td>\n",
       "    </tr>\n",
       "    <tr>\n",
       "      <th>899057</th>\n",
       "      <td>NaN</td>\n",
       "      <td>MEDI AQUA FISH</td>\n",
       "      <td>ENTREPRISE</td>\n",
       "      <td>NaN</td>\n",
       "      <td>NON DEFINI</td>\n",
       "      <td>2216000003-32408</td>\n",
       "      <td>NaN</td>\n",
       "      <td>DAA</td>\n",
       "      <td>23</td>\n",
       "      <td>32408</td>\n",
       "      <td>NaN</td>\n",
       "      <td>NaN</td>\n",
       "      <td>83890.000</td>\n",
       "      <td>Multirisque Aquacole</td>\n",
       "      <td>06/10/2018</td>\n",
       "      <td>26/12/2018</td>\n",
       "    </tr>\n",
       "  </tbody>\n",
       "</table>\n",
       "<p>899058 rows × 16 columns</p>\n",
       "</div>"
      ],
      "text/plain": [
       "        Monthono                Client                Classe  Date_effet  \\\n",
       "0            NaN                    APC  COLLECTIVITE LOCALE  30/03/2021   \n",
       "1            NaN                    APC  COLLECTIVITE LOCALE  30/03/2021   \n",
       "2            NaN                    APC  COLLECTIVITE LOCALE  30/03/2021   \n",
       "3            NaN                    APC  COLLECTIVITE LOCALE  30/03/2021   \n",
       "4            NaN                    APC  COLLECTIVITE LOCALE  30/03/2021   \n",
       "...          ...                    ...                  ...         ...   \n",
       "899053       NaN  MIHOUBI MOHAMED AMINE           ENTREPRISE         NaN   \n",
       "899054       NaN  MIHOUBI MOHAMED AMINE           ENTREPRISE         NaN   \n",
       "899055       NaN  MIHOUBI MOHAMED AMINE           ENTREPRISE         NaN   \n",
       "899056       NaN         MEDI AQUA FISH           ENTREPRISE         NaN   \n",
       "899057       NaN         MEDI AQUA FISH           ENTREPRISE         NaN   \n",
       "\n",
       "          Filiale                 ID        Prime Branche Code_DR Code_agence  \\\n",
       "0       NON DEFINI   1100009189-3409       1700.0    AUTO      34        3409   \n",
       "1       NON DEFINI   1100009189-3409   2302.26001    AUTO      34        3409   \n",
       "2       NON DEFINI   1100009189-3409        500.0    AUTO      34        3409   \n",
       "3       NON DEFINI   1100009189-3409        500.0    AUTO      34        3409   \n",
       "4       NON DEFINI   1100009189-3409  3069.679932    AUTO      34        3409   \n",
       "...            ...               ...          ...     ...     ...         ...   \n",
       "899053  NON DEFINI  2212000007-32401          NaN     DAA      23       32401   \n",
       "899054  NON DEFINI  2212000007-32401          NaN     DAA      23       32401   \n",
       "899055  NON DEFINI  2212000007-32401          NaN     DAA      23       32401   \n",
       "899056  NON DEFINI  2216000003-32408          NaN     DAA      23       32408   \n",
       "899057  NON DEFINI  2216000003-32408          NaN     DAA      23       32408   \n",
       "\n",
       "       Date_echeance Mois  Reglement                   Produit  \\\n",
       "0         29/03/2022    3            NaN     Automobile Flotte   \n",
       "1         29/03/2022    3            NaN     Automobile Flotte   \n",
       "2         29/03/2022    3            NaN     Automobile Flotte   \n",
       "3         29/03/2022    3            NaN     Automobile Flotte   \n",
       "4         29/03/2022    3            NaN     Automobile Flotte   \n",
       "...              ...  ...            ...                   ...   \n",
       "899053           NaN  NaN     141040.000    Multirisque Bétail   \n",
       "899054           NaN  NaN     159600.000    Multirisque Bétail   \n",
       "899055           NaN  NaN     156600.000    Multirisque Bétail   \n",
       "899056           NaN  NaN    1106955.625  Multirisque Aquacole   \n",
       "899057           NaN  NaN      83890.000  Multirisque Aquacole   \n",
       "\n",
       "       Date_declaration Date_reglement  \n",
       "0                   NaN            NaN  \n",
       "1                   NaN            NaN  \n",
       "2                   NaN            NaN  \n",
       "3                   NaN            NaN  \n",
       "4                   NaN            NaN  \n",
       "...                 ...            ...  \n",
       "899053       12/12/2018     31/12/2018  \n",
       "899054       16/12/2018     31/12/2018  \n",
       "899055       16/12/2018     31/12/2018  \n",
       "899056       06/10/2018     26/12/2018  \n",
       "899057       06/10/2018     26/12/2018  \n",
       "\n",
       "[899058 rows x 16 columns]"
      ]
     },
     "execution_count": 3,
     "metadata": {},
     "output_type": "execute_result"
    }
   ],
   "source": [
    "df"
   ]
  },
  {
   "cell_type": "code",
   "execution_count": 4,
   "id": "a6226b48-f833-4561-b15d-0eaab40dd8ce",
   "metadata": {},
   "outputs": [
    {
     "data": {
      "text/html": [
       "<div>\n",
       "<style scoped>\n",
       "    .dataframe tbody tr th:only-of-type {\n",
       "        vertical-align: middle;\n",
       "    }\n",
       "\n",
       "    .dataframe tbody tr th {\n",
       "        vertical-align: top;\n",
       "    }\n",
       "\n",
       "    .dataframe thead th {\n",
       "        text-align: right;\n",
       "    }\n",
       "</style>\n",
       "<table border=\"1\" class=\"dataframe\">\n",
       "  <thead>\n",
       "    <tr style=\"text-align: right;\">\n",
       "      <th></th>\n",
       "      <th>Monthono</th>\n",
       "      <th>Client</th>\n",
       "      <th>Classe</th>\n",
       "      <th>Date_effet</th>\n",
       "      <th>Filiale</th>\n",
       "      <th>ID</th>\n",
       "      <th>Prime</th>\n",
       "      <th>Branche</th>\n",
       "      <th>Code_DR</th>\n",
       "      <th>Code_agence</th>\n",
       "      <th>Date_echeance</th>\n",
       "      <th>Mois</th>\n",
       "      <th>Reglement</th>\n",
       "      <th>Produit</th>\n",
       "      <th>Date_declaration</th>\n",
       "      <th>Date_reglement</th>\n",
       "    </tr>\n",
       "  </thead>\n",
       "  <tbody>\n",
       "    <tr>\n",
       "      <th>899053</th>\n",
       "      <td>NaN</td>\n",
       "      <td>MIHOUBI MOHAMED AMINE</td>\n",
       "      <td>ENTREPRISE</td>\n",
       "      <td>NaN</td>\n",
       "      <td>NON DEFINI</td>\n",
       "      <td>2212000007-32401</td>\n",
       "      <td>NaN</td>\n",
       "      <td>DAA</td>\n",
       "      <td>23</td>\n",
       "      <td>32401</td>\n",
       "      <td>NaN</td>\n",
       "      <td>NaN</td>\n",
       "      <td>141040.000</td>\n",
       "      <td>Multirisque Bétail</td>\n",
       "      <td>12/12/2018</td>\n",
       "      <td>31/12/2018</td>\n",
       "    </tr>\n",
       "    <tr>\n",
       "      <th>899054</th>\n",
       "      <td>NaN</td>\n",
       "      <td>MIHOUBI MOHAMED AMINE</td>\n",
       "      <td>ENTREPRISE</td>\n",
       "      <td>NaN</td>\n",
       "      <td>NON DEFINI</td>\n",
       "      <td>2212000007-32401</td>\n",
       "      <td>NaN</td>\n",
       "      <td>DAA</td>\n",
       "      <td>23</td>\n",
       "      <td>32401</td>\n",
       "      <td>NaN</td>\n",
       "      <td>NaN</td>\n",
       "      <td>159600.000</td>\n",
       "      <td>Multirisque Bétail</td>\n",
       "      <td>16/12/2018</td>\n",
       "      <td>31/12/2018</td>\n",
       "    </tr>\n",
       "    <tr>\n",
       "      <th>899055</th>\n",
       "      <td>NaN</td>\n",
       "      <td>MIHOUBI MOHAMED AMINE</td>\n",
       "      <td>ENTREPRISE</td>\n",
       "      <td>NaN</td>\n",
       "      <td>NON DEFINI</td>\n",
       "      <td>2212000007-32401</td>\n",
       "      <td>NaN</td>\n",
       "      <td>DAA</td>\n",
       "      <td>23</td>\n",
       "      <td>32401</td>\n",
       "      <td>NaN</td>\n",
       "      <td>NaN</td>\n",
       "      <td>156600.000</td>\n",
       "      <td>Multirisque Bétail</td>\n",
       "      <td>16/12/2018</td>\n",
       "      <td>31/12/2018</td>\n",
       "    </tr>\n",
       "    <tr>\n",
       "      <th>899056</th>\n",
       "      <td>NaN</td>\n",
       "      <td>MEDI AQUA FISH</td>\n",
       "      <td>ENTREPRISE</td>\n",
       "      <td>NaN</td>\n",
       "      <td>NON DEFINI</td>\n",
       "      <td>2216000003-32408</td>\n",
       "      <td>NaN</td>\n",
       "      <td>DAA</td>\n",
       "      <td>23</td>\n",
       "      <td>32408</td>\n",
       "      <td>NaN</td>\n",
       "      <td>NaN</td>\n",
       "      <td>1106955.625</td>\n",
       "      <td>Multirisque Aquacole</td>\n",
       "      <td>06/10/2018</td>\n",
       "      <td>26/12/2018</td>\n",
       "    </tr>\n",
       "    <tr>\n",
       "      <th>899057</th>\n",
       "      <td>NaN</td>\n",
       "      <td>MEDI AQUA FISH</td>\n",
       "      <td>ENTREPRISE</td>\n",
       "      <td>NaN</td>\n",
       "      <td>NON DEFINI</td>\n",
       "      <td>2216000003-32408</td>\n",
       "      <td>NaN</td>\n",
       "      <td>DAA</td>\n",
       "      <td>23</td>\n",
       "      <td>32408</td>\n",
       "      <td>NaN</td>\n",
       "      <td>NaN</td>\n",
       "      <td>83890.000</td>\n",
       "      <td>Multirisque Aquacole</td>\n",
       "      <td>06/10/2018</td>\n",
       "      <td>26/12/2018</td>\n",
       "    </tr>\n",
       "  </tbody>\n",
       "</table>\n",
       "</div>"
      ],
      "text/plain": [
       "        Monthono                Client       Classe Date_effet    Filiale   \\\n",
       "899053       NaN  MIHOUBI MOHAMED AMINE  ENTREPRISE        NaN  NON DEFINI   \n",
       "899054       NaN  MIHOUBI MOHAMED AMINE  ENTREPRISE        NaN  NON DEFINI   \n",
       "899055       NaN  MIHOUBI MOHAMED AMINE  ENTREPRISE        NaN  NON DEFINI   \n",
       "899056       NaN         MEDI AQUA FISH  ENTREPRISE        NaN  NON DEFINI   \n",
       "899057       NaN         MEDI AQUA FISH  ENTREPRISE        NaN  NON DEFINI   \n",
       "\n",
       "                      ID Prime Branche Code_DR Code_agence Date_echeance Mois  \\\n",
       "899053  2212000007-32401   NaN     DAA      23       32401           NaN  NaN   \n",
       "899054  2212000007-32401   NaN     DAA      23       32401           NaN  NaN   \n",
       "899055  2212000007-32401   NaN     DAA      23       32401           NaN  NaN   \n",
       "899056  2216000003-32408   NaN     DAA      23       32408           NaN  NaN   \n",
       "899057  2216000003-32408   NaN     DAA      23       32408           NaN  NaN   \n",
       "\n",
       "        Reglement                   Produit Date_declaration Date_reglement  \n",
       "899053     141040.000    Multirisque Bétail       12/12/2018     31/12/2018  \n",
       "899054     159600.000    Multirisque Bétail       16/12/2018     31/12/2018  \n",
       "899055     156600.000    Multirisque Bétail       16/12/2018     31/12/2018  \n",
       "899056    1106955.625  Multirisque Aquacole       06/10/2018     26/12/2018  \n",
       "899057      83890.000  Multirisque Aquacole       06/10/2018     26/12/2018  "
      ]
     },
     "execution_count": 4,
     "metadata": {},
     "output_type": "execute_result"
    }
   ],
   "source": [
    "df.tail()"
   ]
  },
  {
   "cell_type": "code",
   "execution_count": 4,
   "id": "fe101c37-cc0b-4345-a8d6-b97af11b94a8",
   "metadata": {},
   "outputs": [
    {
     "name": "stdout",
     "output_type": "stream",
     "text": [
      "        Monthono                Client                Classe  Date_effet  \\\n",
      "3            NaN                    APC  COLLECTIVITE LOCALE  30/03/2021   \n",
      "5            NaN                    APC  COLLECTIVITE LOCALE  30/03/2021   \n",
      "7            NaN                    APC  COLLECTIVITE LOCALE  30/03/2021   \n",
      "8            NaN                    APC  COLLECTIVITE LOCALE  30/03/2021   \n",
      "9            NaN                    APC  COLLECTIVITE LOCALE  30/03/2021   \n",
      "...          ...                    ...                  ...         ...   \n",
      "899042       NaN  MIHOUBI MOHAMED AMINE           ENTREPRISE         NaN   \n",
      "899043       NaN  MIHOUBI MOHAMED AMINE           ENTREPRISE         NaN   \n",
      "899045       NaN  MIHOUBI MOHAMED AMINE           ENTREPRISE         NaN   \n",
      "899046       NaN  MIHOUBI MOHAMED AMINE           ENTREPRISE         NaN   \n",
      "899049       NaN  MIHOUBI MOHAMED AMINE           ENTREPRISE         NaN   \n",
      "\n",
      "          Filiale                 ID        Prime Branche Code_DR Code_agence  \\\n",
      "3       NON DEFINI   1100009189-3409        500.0    AUTO      34        3409   \n",
      "5       NON DEFINI   1100009189-3409  3069.679932    AUTO      34        3409   \n",
      "7       NON DEFINI   1100009189-3409       1700.0    AUTO      34        3409   \n",
      "8       NON DEFINI   1100009189-3409        500.0    AUTO      34        3409   \n",
      "9       NON DEFINI   1100009189-3409        500.0    AUTO      34        3409   \n",
      "...            ...               ...          ...     ...     ...         ...   \n",
      "899042  NON DEFINI  2212000007-32401          NaN     DAA      23       32401   \n",
      "899043  NON DEFINI  2212000007-32401          NaN     DAA      23       32401   \n",
      "899045  NON DEFINI  2212000007-32401          NaN     DAA      23       32401   \n",
      "899046  NON DEFINI  2212000007-32401          NaN     DAA      23       32401   \n",
      "899049  NON DEFINI  2212000007-32401          NaN     DAA      23       32401   \n",
      "\n",
      "       Date_echeance Mois  Reglement                 Produit Date_declaration  \\\n",
      "3         29/03/2022    3            NaN   Automobile Flotte              NaN   \n",
      "5         29/03/2022    3            NaN   Automobile Flotte              NaN   \n",
      "7         29/03/2022    3            NaN   Automobile Flotte              NaN   \n",
      "8         29/03/2022    3            NaN   Automobile Flotte              NaN   \n",
      "9         29/03/2022    3            NaN   Automobile Flotte              NaN   \n",
      "...              ...  ...            ...                 ...              ...   \n",
      "899042           NaN  NaN         5940.0  Multirisque Bétail       18/04/2018   \n",
      "899043           NaN  NaN         5940.0  Multirisque Bétail       18/04/2018   \n",
      "899045           NaN  NaN         5940.0  Multirisque Bétail       24/05/2018   \n",
      "899046           NaN  NaN         5940.0  Multirisque Bétail       24/05/2018   \n",
      "899049           NaN  NaN       192000.0  Multirisque Bétail       24/05/2018   \n",
      "\n",
      "       Date_reglement  \n",
      "3                 NaN  \n",
      "5                 NaN  \n",
      "7                 NaN  \n",
      "8                 NaN  \n",
      "9                 NaN  \n",
      "...               ...  \n",
      "899042     29/04/2018  \n",
      "899043     29/04/2018  \n",
      "899045     14/06/2018  \n",
      "899046     14/06/2018  \n",
      "899049     10/09/2018  \n",
      "\n",
      "[452269 rows x 16 columns]\n"
     ]
    }
   ],
   "source": [
    "duplicate_rows = df[df.duplicated()]\n",
    "print(duplicate_rows)"
   ]
  },
  {
   "cell_type": "code",
   "execution_count": 5,
   "id": "61f9f3ba-a998-46ce-90f5-44ff2cb4cd44",
   "metadata": {},
   "outputs": [],
   "source": [
    "df1=df.drop_duplicates()"
   ]
  },
  {
   "cell_type": "code",
   "execution_count": null,
   "id": "924ee4a8-048a-4630-ad32-c4cfe15564f5",
   "metadata": {},
   "outputs": [],
   "source": [
    "## data structure : "
   ]
  },
  {
   "cell_type": "code",
   "execution_count": 7,
   "id": "d089dc9f-244d-4713-af14-97e523c35cb8",
   "metadata": {},
   "outputs": [
    {
     "name": "stdout",
     "output_type": "stream",
     "text": [
      "<class 'pandas.core.frame.DataFrame'>\n",
      "Index: 446789 entries, 0 to 899057\n",
      "Data columns (total 16 columns):\n",
      " #   Column            Non-Null Count   Dtype  \n",
      "---  ------            --------------   -----  \n",
      " 0   Monthono          72083 non-null   float64\n",
      " 1   Client            446789 non-null  object \n",
      " 2   Classe            446789 non-null  object \n",
      " 3   Date_effet        345858 non-null  object \n",
      " 4   Filiale           446789 non-null  object \n",
      " 5   ID                446789 non-null  object \n",
      " 6   Prime             345858 non-null  object \n",
      " 7   Branche           446789 non-null  object \n",
      " 8   Code_DR           446789 non-null  object \n",
      " 9   Code_agence       446789 non-null  object \n",
      " 10  Date_echeance     381291 non-null  object \n",
      " 11  Mois              312704 non-null  object \n",
      " 12  Reglement         99179 non-null   float64\n",
      " 13  Produit           446789 non-null  object \n",
      " 14  Date_declaration  100931 non-null  object \n",
      " 15  Date_reglement    100931 non-null  object \n",
      "dtypes: float64(2), object(14)\n",
      "memory usage: 57.9+ MB\n"
     ]
    }
   ],
   "source": [
    "df1.info()"
   ]
  },
  {
   "cell_type": "code",
   "execution_count": 6,
   "id": "89e908b4-abe4-425e-bc80-c4a9e7f3266c",
   "metadata": {},
   "outputs": [
    {
     "data": {
      "text/plain": [
       "Monthono            374706\n",
       "Client                   0\n",
       "Classe                   0\n",
       "Date_effet          100931\n",
       "Filiale                  0\n",
       "ID                       0\n",
       "Prime               100931\n",
       "Branche                  0\n",
       "Code_DR                  0\n",
       "Code_agence              0\n",
       "Date_echeance        65498\n",
       "Mois                134085\n",
       "Reglement           347610\n",
       "Produit                  0\n",
       "Date_declaration    345858\n",
       "Date_reglement      345858\n",
       "dtype: int64"
      ]
     },
     "execution_count": 6,
     "metadata": {},
     "output_type": "execute_result"
    }
   ],
   "source": [
    "df1.isna().sum()"
   ]
  },
  {
   "cell_type": "code",
   "execution_count": 7,
   "id": "a0d82c75-bb0b-493e-bc1e-c0187a00c56a",
   "metadata": {},
   "outputs": [
    {
     "name": "stdout",
     "output_type": "stream",
     "text": [
      "Index(['Monthono', 'Client ', 'Classe', 'Date_effet', 'Filiale ', 'ID',\n",
      "       'Prime', 'Branche', 'Code_DR', 'Code_agence', 'Date_echeance', 'Mois',\n",
      "       'Reglement    ', 'Produit', 'Date_declaration', 'Date_reglement'],\n",
      "      dtype='object')\n"
     ]
    }
   ],
   "source": [
    "# Print all column names in your DataFrame\n",
    "print(df.columns)"
   ]
  },
  {
   "cell_type": "code",
   "execution_count": 10,
   "id": "279e14fc-3951-4b39-bd8b-8d4fd8594c39",
   "metadata": {},
   "outputs": [
    {
     "name": "stdout",
     "output_type": "stream",
     "text": [
      " Dataset size :  (446789, 16)\n"
     ]
    }
   ],
   "source": [
    "print(\" Dataset size : \", df1.shape)"
   ]
  },
  {
   "cell_type": "code",
   "execution_count": 8,
   "id": "c972d0d8-df01-41ac-9e70-aaa50499bbaa",
   "metadata": {},
   "outputs": [
    {
     "data": {
      "text/html": [
       "<div>\n",
       "<style scoped>\n",
       "    .dataframe tbody tr th:only-of-type {\n",
       "        vertical-align: middle;\n",
       "    }\n",
       "\n",
       "    .dataframe tbody tr th {\n",
       "        vertical-align: top;\n",
       "    }\n",
       "\n",
       "    .dataframe thead th {\n",
       "        text-align: right;\n",
       "    }\n",
       "</style>\n",
       "<table border=\"1\" class=\"dataframe\">\n",
       "  <thead>\n",
       "    <tr style=\"text-align: right;\">\n",
       "      <th></th>\n",
       "      <th>Monthono</th>\n",
       "      <th>Client</th>\n",
       "      <th>Classe</th>\n",
       "      <th>Date_effet</th>\n",
       "      <th>Filiale</th>\n",
       "      <th>ID</th>\n",
       "      <th>Prime</th>\n",
       "      <th>Branche</th>\n",
       "      <th>Code_DR</th>\n",
       "      <th>Code_agence</th>\n",
       "      <th>Date_echeance</th>\n",
       "      <th>Mois</th>\n",
       "      <th>Reglement</th>\n",
       "      <th>Produit</th>\n",
       "      <th>Date_declaration</th>\n",
       "      <th>Date_reglement</th>\n",
       "    </tr>\n",
       "  </thead>\n",
       "  <tbody>\n",
       "    <tr>\n",
       "      <th>count</th>\n",
       "      <td>72083.000000</td>\n",
       "      <td>446789</td>\n",
       "      <td>446789</td>\n",
       "      <td>345858</td>\n",
       "      <td>446789</td>\n",
       "      <td>446789</td>\n",
       "      <td>345858.0</td>\n",
       "      <td>446789</td>\n",
       "      <td>446789.0</td>\n",
       "      <td>446789.0</td>\n",
       "      <td>381291</td>\n",
       "      <td>312704.0</td>\n",
       "      <td>9.917900e+04</td>\n",
       "      <td>446789</td>\n",
       "      <td>100931</td>\n",
       "      <td>100931</td>\n",
       "    </tr>\n",
       "    <tr>\n",
       "      <th>unique</th>\n",
       "      <td>NaN</td>\n",
       "      <td>2482</td>\n",
       "      <td>7</td>\n",
       "      <td>1392</td>\n",
       "      <td>244</td>\n",
       "      <td>48262</td>\n",
       "      <td>155782.0</td>\n",
       "      <td>6</td>\n",
       "      <td>33.0</td>\n",
       "      <td>1130.0</td>\n",
       "      <td>2170</td>\n",
       "      <td>25.0</td>\n",
       "      <td>NaN</td>\n",
       "      <td>111</td>\n",
       "      <td>2242</td>\n",
       "      <td>968</td>\n",
       "    </tr>\n",
       "    <tr>\n",
       "      <th>top</th>\n",
       "      <td>NaN</td>\n",
       "      <td>APC</td>\n",
       "      <td>GRANDE ENTREPRISE</td>\n",
       "      <td>01/01/2021</td>\n",
       "      <td>NON DEFINI</td>\n",
       "      <td>1100038168-1501</td>\n",
       "      <td>300.0</td>\n",
       "      <td>AUTO</td>\n",
       "      <td>11.0</td>\n",
       "      <td>1402.0</td>\n",
       "      <td>31/12/2021</td>\n",
       "      <td>1.0</td>\n",
       "      <td>NaN</td>\n",
       "      <td>Automobile Flotte</td>\n",
       "      <td>07/11/2021</td>\n",
       "      <td>29/12/2022</td>\n",
       "    </tr>\n",
       "    <tr>\n",
       "      <th>freq</th>\n",
       "      <td>NaN</td>\n",
       "      <td>52351</td>\n",
       "      <td>142147</td>\n",
       "      <td>97531</td>\n",
       "      <td>400940</td>\n",
       "      <td>4550</td>\n",
       "      <td>3203.0</td>\n",
       "      <td>231854</td>\n",
       "      <td>56099.0</td>\n",
       "      <td>9543.0</td>\n",
       "      <td>125931</td>\n",
       "      <td>82345.0</td>\n",
       "      <td>NaN</td>\n",
       "      <td>231761</td>\n",
       "      <td>254</td>\n",
       "      <td>1603</td>\n",
       "    </tr>\n",
       "    <tr>\n",
       "      <th>mean</th>\n",
       "      <td>1575.678774</td>\n",
       "      <td>NaN</td>\n",
       "      <td>NaN</td>\n",
       "      <td>NaN</td>\n",
       "      <td>NaN</td>\n",
       "      <td>NaN</td>\n",
       "      <td>NaN</td>\n",
       "      <td>NaN</td>\n",
       "      <td>NaN</td>\n",
       "      <td>NaN</td>\n",
       "      <td>NaN</td>\n",
       "      <td>NaN</td>\n",
       "      <td>4.759847e+04</td>\n",
       "      <td>NaN</td>\n",
       "      <td>NaN</td>\n",
       "      <td>NaN</td>\n",
       "    </tr>\n",
       "    <tr>\n",
       "      <th>std</th>\n",
       "      <td>7413.224535</td>\n",
       "      <td>NaN</td>\n",
       "      <td>NaN</td>\n",
       "      <td>NaN</td>\n",
       "      <td>NaN</td>\n",
       "      <td>NaN</td>\n",
       "      <td>NaN</td>\n",
       "      <td>NaN</td>\n",
       "      <td>NaN</td>\n",
       "      <td>NaN</td>\n",
       "      <td>NaN</td>\n",
       "      <td>NaN</td>\n",
       "      <td>1.979135e+06</td>\n",
       "      <td>NaN</td>\n",
       "      <td>NaN</td>\n",
       "      <td>NaN</td>\n",
       "    </tr>\n",
       "    <tr>\n",
       "      <th>min</th>\n",
       "      <td>0.000000</td>\n",
       "      <td>NaN</td>\n",
       "      <td>NaN</td>\n",
       "      <td>NaN</td>\n",
       "      <td>NaN</td>\n",
       "      <td>NaN</td>\n",
       "      <td>NaN</td>\n",
       "      <td>NaN</td>\n",
       "      <td>NaN</td>\n",
       "      <td>NaN</td>\n",
       "      <td>NaN</td>\n",
       "      <td>NaN</td>\n",
       "      <td>-6.837990e+03</td>\n",
       "      <td>NaN</td>\n",
       "      <td>NaN</td>\n",
       "      <td>NaN</td>\n",
       "    </tr>\n",
       "    <tr>\n",
       "      <th>25%</th>\n",
       "      <td>0.000000</td>\n",
       "      <td>NaN</td>\n",
       "      <td>NaN</td>\n",
       "      <td>NaN</td>\n",
       "      <td>NaN</td>\n",
       "      <td>NaN</td>\n",
       "      <td>NaN</td>\n",
       "      <td>NaN</td>\n",
       "      <td>NaN</td>\n",
       "      <td>NaN</td>\n",
       "      <td>NaN</td>\n",
       "      <td>NaN</td>\n",
       "      <td>0.000000e+00</td>\n",
       "      <td>NaN</td>\n",
       "      <td>NaN</td>\n",
       "      <td>NaN</td>\n",
       "    </tr>\n",
       "    <tr>\n",
       "      <th>50%</th>\n",
       "      <td>0.000000</td>\n",
       "      <td>NaN</td>\n",
       "      <td>NaN</td>\n",
       "      <td>NaN</td>\n",
       "      <td>NaN</td>\n",
       "      <td>NaN</td>\n",
       "      <td>NaN</td>\n",
       "      <td>NaN</td>\n",
       "      <td>NaN</td>\n",
       "      <td>NaN</td>\n",
       "      <td>NaN</td>\n",
       "      <td>NaN</td>\n",
       "      <td>5.472420e+03</td>\n",
       "      <td>NaN</td>\n",
       "      <td>NaN</td>\n",
       "      <td>NaN</td>\n",
       "    </tr>\n",
       "    <tr>\n",
       "      <th>75%</th>\n",
       "      <td>1980.000000</td>\n",
       "      <td>NaN</td>\n",
       "      <td>NaN</td>\n",
       "      <td>NaN</td>\n",
       "      <td>NaN</td>\n",
       "      <td>NaN</td>\n",
       "      <td>NaN</td>\n",
       "      <td>NaN</td>\n",
       "      <td>NaN</td>\n",
       "      <td>NaN</td>\n",
       "      <td>NaN</td>\n",
       "      <td>NaN</td>\n",
       "      <td>2.700000e+04</td>\n",
       "      <td>NaN</td>\n",
       "      <td>NaN</td>\n",
       "      <td>NaN</td>\n",
       "    </tr>\n",
       "    <tr>\n",
       "      <th>max</th>\n",
       "      <td>956584.000000</td>\n",
       "      <td>NaN</td>\n",
       "      <td>NaN</td>\n",
       "      <td>NaN</td>\n",
       "      <td>NaN</td>\n",
       "      <td>NaN</td>\n",
       "      <td>NaN</td>\n",
       "      <td>NaN</td>\n",
       "      <td>NaN</td>\n",
       "      <td>NaN</td>\n",
       "      <td>NaN</td>\n",
       "      <td>NaN</td>\n",
       "      <td>5.695810e+08</td>\n",
       "      <td>NaN</td>\n",
       "      <td>NaN</td>\n",
       "      <td>NaN</td>\n",
       "    </tr>\n",
       "  </tbody>\n",
       "</table>\n",
       "</div>"
      ],
      "text/plain": [
       "             Monthono Client              Classe  Date_effet    Filiale   \\\n",
       "count    72083.000000  446789             446789      345858      446789   \n",
       "unique            NaN    2482                  7        1392         244   \n",
       "top               NaN     APC  GRANDE ENTREPRISE  01/01/2021  NON DEFINI   \n",
       "freq              NaN   52351             142147       97531      400940   \n",
       "mean      1575.678774     NaN                NaN         NaN         NaN   \n",
       "std       7413.224535     NaN                NaN         NaN         NaN   \n",
       "min          0.000000     NaN                NaN         NaN         NaN   \n",
       "25%          0.000000     NaN                NaN         NaN         NaN   \n",
       "50%          0.000000     NaN                NaN         NaN         NaN   \n",
       "75%       1980.000000     NaN                NaN         NaN         NaN   \n",
       "max     956584.000000     NaN                NaN         NaN         NaN   \n",
       "\n",
       "                     ID     Prime Branche   Code_DR  Code_agence  \\\n",
       "count            446789  345858.0  446789  446789.0     446789.0   \n",
       "unique            48262  155782.0       6      33.0       1130.0   \n",
       "top     1100038168-1501     300.0    AUTO      11.0       1402.0   \n",
       "freq               4550    3203.0  231854   56099.0       9543.0   \n",
       "mean                NaN       NaN     NaN       NaN          NaN   \n",
       "std                 NaN       NaN     NaN       NaN          NaN   \n",
       "min                 NaN       NaN     NaN       NaN          NaN   \n",
       "25%                 NaN       NaN     NaN       NaN          NaN   \n",
       "50%                 NaN       NaN     NaN       NaN          NaN   \n",
       "75%                 NaN       NaN     NaN       NaN          NaN   \n",
       "max                 NaN       NaN     NaN       NaN          NaN   \n",
       "\n",
       "       Date_echeance      Mois  Reglement                Produit  \\\n",
       "count         381291  312704.0   9.917900e+04             446789   \n",
       "unique          2170      25.0            NaN                111   \n",
       "top       31/12/2021       1.0            NaN  Automobile Flotte   \n",
       "freq          125931   82345.0            NaN             231761   \n",
       "mean             NaN       NaN   4.759847e+04                NaN   \n",
       "std              NaN       NaN   1.979135e+06                NaN   \n",
       "min              NaN       NaN  -6.837990e+03                NaN   \n",
       "25%              NaN       NaN   0.000000e+00                NaN   \n",
       "50%              NaN       NaN   5.472420e+03                NaN   \n",
       "75%              NaN       NaN   2.700000e+04                NaN   \n",
       "max              NaN       NaN   5.695810e+08                NaN   \n",
       "\n",
       "       Date_declaration Date_reglement  \n",
       "count            100931         100931  \n",
       "unique             2242            968  \n",
       "top          07/11/2021     29/12/2022  \n",
       "freq                254           1603  \n",
       "mean                NaN            NaN  \n",
       "std                 NaN            NaN  \n",
       "min                 NaN            NaN  \n",
       "25%                 NaN            NaN  \n",
       "50%                 NaN            NaN  \n",
       "75%                 NaN            NaN  \n",
       "max                 NaN            NaN  "
      ]
     },
     "execution_count": 8,
     "metadata": {},
     "output_type": "execute_result"
    }
   ],
   "source": [
    " df1.describe(include='all')"
   ]
  },
  {
   "cell_type": "code",
   "execution_count": 9,
   "id": "cd55f2e1-9017-42b2-a088-7789dbea9539",
   "metadata": {},
   "outputs": [],
   "source": [
    "df1.loc[:,'Monthono'] = df1['Monthono'].fillna('0')"
   ]
  },
  {
   "cell_type": "code",
   "execution_count": 10,
   "id": "b5fb0ccd-7106-405b-bb3e-b6f118668d02",
   "metadata": {},
   "outputs": [],
   "source": [
    "df1.loc[:,'Reglement    '] = df1['Reglement    '].fillna('0')"
   ]
  },
  {
   "cell_type": "code",
   "execution_count": 11,
   "id": "84050f7e-a5d0-4dce-92c9-106ab46864be",
   "metadata": {},
   "outputs": [],
   "source": [
    "df1.loc[:,'Prime'] = df1['Prime'].fillna('0')"
   ]
  },
  {
   "cell_type": "code",
   "execution_count": 12,
   "id": "21723bb8-8ada-4c82-9814-020960d46319",
   "metadata": {},
   "outputs": [],
   "source": [
    "df1.loc[:,'Mois'] = df1['Mois'].fillna('1')"
   ]
  },
  {
   "cell_type": "code",
   "execution_count": 13,
   "id": "60a17f9d-5b8e-4a6b-b2d3-275e436035f9",
   "metadata": {},
   "outputs": [],
   "source": [
    "df1.loc[:, 'Date_effet'] = df1['Date_effet'].fillna('01/01/2021')"
   ]
  },
  {
   "cell_type": "code",
   "execution_count": 14,
   "id": "d78a1541-e839-466b-bd3e-a44905fb6621",
   "metadata": {},
   "outputs": [],
   "source": [
    "df1.loc[:, 'Date_echeance'] = df1['Date_echeance'].fillna('31/12/2021')"
   ]
  },
  {
   "cell_type": "code",
   "execution_count": 15,
   "id": "fc3eb77b-c5b5-4594-a6eb-1bb726764265",
   "metadata": {},
   "outputs": [],
   "source": [
    "df1.loc[:,'Date_declaration'] = df1['Date_declaration'].fillna('07/11/2021')"
   ]
  },
  {
   "cell_type": "code",
   "execution_count": 16,
   "id": "c77afff8-0e98-48a8-b1ae-aa1aa411f371",
   "metadata": {},
   "outputs": [
    {
     "data": {
      "text/plain": [
       "Date_reglement    345858\n",
       "dtype: int64"
      ]
     },
     "execution_count": 16,
     "metadata": {},
     "output_type": "execute_result"
    }
   ],
   "source": [
    "df1[['Date_reglement']].isna().sum()"
   ]
  },
  {
   "cell_type": "code",
   "execution_count": 17,
   "id": "5c5c9755-d116-48f3-bf7d-b705e6607742",
   "metadata": {},
   "outputs": [
    {
     "data": {
      "text/plain": [
       "Monthono                 0\n",
       "Client                   0\n",
       "Classe                   0\n",
       "Date_effet               0\n",
       "Filiale                  0\n",
       "ID                       0\n",
       "Prime                    0\n",
       "Branche                  0\n",
       "Code_DR                  0\n",
       "Code_agence              0\n",
       "Date_echeance            0\n",
       "Mois                     0\n",
       "Reglement                0\n",
       "Produit                  0\n",
       "Date_declaration         0\n",
       "Date_reglement      345858\n",
       "dtype: int64"
      ]
     },
     "execution_count": 17,
     "metadata": {},
     "output_type": "execute_result"
    }
   ],
   "source": [
    "df1.isna().sum()"
   ]
  },
  {
   "cell_type": "code",
   "execution_count": 18,
   "id": "8a0369f1-5a3a-4743-9cb0-57a41114d809",
   "metadata": {},
   "outputs": [
    {
     "name": "stderr",
     "output_type": "stream",
     "text": [
      "C:\\Users\\dell\\AppData\\Local\\Temp\\ipykernel_27636\\1414029601.py:4: SettingWithCopyWarning: \n",
      "A value is trying to be set on a copy of a slice from a DataFrame.\n",
      "Try using .loc[row_indexer,col_indexer] = value instead\n",
      "\n",
      "See the caveats in the documentation: https://pandas.pydata.org/pandas-docs/stable/user_guide/indexing.html#returning-a-view-versus-a-copy\n",
      "  df1['Date_effet'] = pd.to_datetime(df1['Date_effet'], format=\"%d/%m/%Y\", errors='coerce')\n",
      "C:\\Users\\dell\\AppData\\Local\\Temp\\ipykernel_27636\\1414029601.py:18: SettingWithCopyWarning: \n",
      "A value is trying to be set on a copy of a slice from a DataFrame.\n",
      "Try using .loc[row_indexer,col_indexer] = value instead\n",
      "\n",
      "See the caveats in the documentation: https://pandas.pydata.org/pandas-docs/stable/user_guide/indexing.html#returning-a-view-versus-a-copy\n",
      "  df1['Date_reglement'] = df1.apply(fill_date_reglement, axis=1)\n",
      "C:\\Users\\dell\\AppData\\Local\\Temp\\ipykernel_27636\\1414029601.py:21: SettingWithCopyWarning: \n",
      "A value is trying to be set on a copy of a slice from a DataFrame.\n",
      "Try using .loc[row_indexer,col_indexer] = value instead\n",
      "\n",
      "See the caveats in the documentation: https://pandas.pydata.org/pandas-docs/stable/user_guide/indexing.html#returning-a-view-versus-a-copy\n",
      "  df1['Date_reglement'] = pd.to_datetime(df1['Date_reglement'], format=\"%d/%m/%Y\", errors='coerce')\n"
     ]
    },
    {
     "name": "stdout",
     "output_type": "stream",
     "text": [
      "       Monthono                Client                Classe Date_effet  \\\n",
      "0             0                    APC  COLLECTIVITE LOCALE 2021-03-30   \n",
      "1             0                    APC  COLLECTIVITE LOCALE 2021-03-30   \n",
      "2             0                    APC  COLLECTIVITE LOCALE 2021-03-30   \n",
      "4             0                    APC  COLLECTIVITE LOCALE 2021-03-30   \n",
      "6             0                    APC  COLLECTIVITE LOCALE 2021-03-30   \n",
      "...         ...                    ...                  ...        ...   \n",
      "899053        0  MIHOUBI MOHAMED AMINE           ENTREPRISE 2021-01-01   \n",
      "899054        0  MIHOUBI MOHAMED AMINE           ENTREPRISE 2021-01-01   \n",
      "899055        0  MIHOUBI MOHAMED AMINE           ENTREPRISE 2021-01-01   \n",
      "899056        0         MEDI AQUA FISH           ENTREPRISE 2021-01-01   \n",
      "899057        0         MEDI AQUA FISH           ENTREPRISE 2021-01-01   \n",
      "\n",
      "          Filiale                 ID        Prime Branche Code_DR Code_agence  \\\n",
      "0       NON DEFINI   1100009189-3409       1700.0    AUTO      34        3409   \n",
      "1       NON DEFINI   1100009189-3409   2302.26001    AUTO      34        3409   \n",
      "2       NON DEFINI   1100009189-3409        500.0    AUTO      34        3409   \n",
      "4       NON DEFINI   1100009189-3409  3069.679932    AUTO      34        3409   \n",
      "6       NON DEFINI   1100009189-3409        300.0    AUTO      34        3409   \n",
      "...            ...               ...          ...     ...     ...         ...   \n",
      "899053  NON DEFINI  2212000007-32401            0     DAA      23       32401   \n",
      "899054  NON DEFINI  2212000007-32401            0     DAA      23       32401   \n",
      "899055  NON DEFINI  2212000007-32401            0     DAA      23       32401   \n",
      "899056  NON DEFINI  2216000003-32408            0     DAA      23       32408   \n",
      "899057  NON DEFINI  2216000003-32408            0     DAA      23       32408   \n",
      "\n",
      "       Date_echeance Mois Reglement                   Produit  \\\n",
      "0         29/03/2022    3             0     Automobile Flotte   \n",
      "1         29/03/2022    3             0     Automobile Flotte   \n",
      "2         29/03/2022    3             0     Automobile Flotte   \n",
      "4         29/03/2022    3             0     Automobile Flotte   \n",
      "6         29/03/2022    3             0     Automobile Flotte   \n",
      "...              ...  ...           ...                   ...   \n",
      "899053    31/12/2021    1      141040.0    Multirisque Bétail   \n",
      "899054    31/12/2021    1      159600.0    Multirisque Bétail   \n",
      "899055    31/12/2021    1      156600.0    Multirisque Bétail   \n",
      "899056    31/12/2021    1   1106955.625  Multirisque Aquacole   \n",
      "899057    31/12/2021    1       83890.0  Multirisque Aquacole   \n",
      "\n",
      "       Date_declaration Date_reglement  \n",
      "0            07/11/2021     2021-12-31  \n",
      "1            07/11/2021     2021-12-31  \n",
      "2            07/11/2021     2021-12-31  \n",
      "4            07/11/2021     2021-12-31  \n",
      "6            07/11/2021     2021-12-31  \n",
      "...                 ...            ...  \n",
      "899053       12/12/2018     2018-12-31  \n",
      "899054       16/12/2018     2018-12-31  \n",
      "899055       16/12/2018     2018-12-31  \n",
      "899056       06/10/2018     2018-12-26  \n",
      "899057       06/10/2018     2018-12-26  \n",
      "\n",
      "[446789 rows x 16 columns]\n",
      "Monthono            0\n",
      "Client              0\n",
      "Classe              0\n",
      "Date_effet          0\n",
      "Filiale             0\n",
      "ID                  0\n",
      "Prime               0\n",
      "Branche             0\n",
      "Code_DR             0\n",
      "Code_agence         0\n",
      "Date_echeance       0\n",
      "Mois                0\n",
      "Reglement           0\n",
      "Produit             0\n",
      "Date_declaration    0\n",
      "Date_reglement      0\n",
      "dtype: int64\n"
     ]
    }
   ],
   "source": [
    "from datetime import datetime\n",
    "\n",
    "# Convert 'Date_effet' to datetime format\n",
    "df1['Date_effet'] = pd.to_datetime(df1['Date_effet'], format=\"%d/%m/%Y\", errors='coerce')\n",
    "\n",
    "def fill_date_reglement(row):\n",
    "    if pd.isna(row['Date_reglement']) and not pd.isna(row['Reglement    ']):\n",
    "        # Extract the year from 'Date_effet'\n",
    "        year = row['Date_effet'].year\n",
    "        # Construct the date string\n",
    "        date_str = f'31/12/{year}'\n",
    "        # Convert the string to a datetime object\n",
    "        return datetime.strptime(date_str, \"%d/%m/%Y\")\n",
    "    else:\n",
    "        return row['Date_reglement']\n",
    "\n",
    "# Apply the function to each row\n",
    "df1['Date_reglement'] = df1.apply(fill_date_reglement, axis=1)\n",
    "\n",
    "# Convert 'Date_reglement' column to datetime type\n",
    "df1['Date_reglement'] = pd.to_datetime(df1['Date_reglement'], format=\"%d/%m/%Y\", errors='coerce')\n",
    "\n",
    "print(df1)\n",
    "print(df1.isna().sum())\n"
   ]
  },
  {
   "cell_type": "code",
   "execution_count": 19,
   "id": "6dc397d8-a10e-4e12-a8e1-f4b5ec30d93d",
   "metadata": {},
   "outputs": [
    {
     "name": "stdout",
     "output_type": "stream",
     "text": [
      "<class 'pandas.core.frame.DataFrame'>\n",
      "RangeIndex: 899058 entries, 0 to 899057\n",
      "Data columns (total 16 columns):\n",
      " #   Column            Non-Null Count   Dtype  \n",
      "---  ------            --------------   -----  \n",
      " 0   Monthono          74528 non-null   float64\n",
      " 1   Client            899058 non-null  object \n",
      " 2   Classe            899058 non-null  object \n",
      " 3   Date_effet        794495 non-null  object \n",
      " 4   Filiale           899058 non-null  object \n",
      " 5   ID                899058 non-null  object \n",
      " 6   Prime             794495 non-null  object \n",
      " 7   Branche           899058 non-null  object \n",
      " 8   Code_DR           899058 non-null  object \n",
      " 9   Code_agence       899058 non-null  object \n",
      " 10  Date_echeance     831041 non-null  object \n",
      " 11  Mois              760862 non-null  object \n",
      " 12  Reglement         102795 non-null  float64\n",
      " 13  Produit           899058 non-null  object \n",
      " 14  Date_declaration  104563 non-null  object \n",
      " 15  Date_reglement    104563 non-null  object \n",
      "dtypes: float64(2), object(14)\n",
      "memory usage: 109.7+ MB\n"
     ]
    }
   ],
   "source": [
    "df.info()"
   ]
  },
  {
   "cell_type": "code",
   "execution_count": 20,
   "id": "f4ad57af-c49a-4c51-aa1e-414fbd56fb15",
   "metadata": {},
   "outputs": [
    {
     "name": "stderr",
     "output_type": "stream",
     "text": [
      "C:\\Users\\dell\\AppData\\Local\\Temp\\ipykernel_27636\\4282997779.py:1: SettingWithCopyWarning: \n",
      "A value is trying to be set on a copy of a slice from a DataFrame.\n",
      "Try using .loc[row_indexer,col_indexer] = value instead\n",
      "\n",
      "See the caveats in the documentation: https://pandas.pydata.org/pandas-docs/stable/user_guide/indexing.html#returning-a-view-versus-a-copy\n",
      "  df1['Date_echeance'] = pd.to_datetime(df1['Date_echeance'], format=\"%d/%m/%Y\",errors='coerce')\n"
     ]
    }
   ],
   "source": [
    "df1['Date_echeance'] = pd.to_datetime(df1['Date_echeance'], format=\"%d/%m/%Y\",errors='coerce')"
   ]
  },
  {
   "cell_type": "code",
   "execution_count": 21,
   "id": "c5e33190-2613-49b6-a969-37bf2ac82454",
   "metadata": {},
   "outputs": [
    {
     "name": "stderr",
     "output_type": "stream",
     "text": [
      "C:\\Users\\dell\\AppData\\Local\\Temp\\ipykernel_27636\\109193276.py:1: SettingWithCopyWarning: \n",
      "A value is trying to be set on a copy of a slice from a DataFrame.\n",
      "Try using .loc[row_indexer,col_indexer] = value instead\n",
      "\n",
      "See the caveats in the documentation: https://pandas.pydata.org/pandas-docs/stable/user_guide/indexing.html#returning-a-view-versus-a-copy\n",
      "  df1['Date_declaration'] = pd.to_datetime(df1['Date_declaration'], format=\"%d/%m/%Y\", errors='coerce')\n"
     ]
    }
   ],
   "source": [
    "df1['Date_declaration'] = pd.to_datetime(df1['Date_declaration'], format=\"%d/%m/%Y\", errors='coerce')"
   ]
  },
  {
   "cell_type": "code",
   "execution_count": 22,
   "id": "71cc04c6-6693-4e01-9626-7b9d960da48e",
   "metadata": {},
   "outputs": [
    {
     "name": "stderr",
     "output_type": "stream",
     "text": [
      "C:\\Users\\dell\\AppData\\Local\\Temp\\ipykernel_27636\\2665531556.py:1: SettingWithCopyWarning: \n",
      "A value is trying to be set on a copy of a slice from a DataFrame.\n",
      "Try using .loc[row_indexer,col_indexer] = value instead\n",
      "\n",
      "See the caveats in the documentation: https://pandas.pydata.org/pandas-docs/stable/user_guide/indexing.html#returning-a-view-versus-a-copy\n",
      "  df1['Date_effet'] = pd.to_datetime(df1['Date_effet'], format=\"%d/%m/%Y\", errors='coerce')\n"
     ]
    }
   ],
   "source": [
    "df1['Date_effet'] = pd.to_datetime(df1['Date_effet'], format=\"%d/%m/%Y\", errors='coerce')"
   ]
  },
  {
   "cell_type": "code",
   "execution_count": 23,
   "id": "9a3fc49e-538c-472a-8cf0-d2719304ed84",
   "metadata": {},
   "outputs": [
    {
     "name": "stdout",
     "output_type": "stream",
     "text": [
      "<class 'pandas.core.frame.DataFrame'>\n",
      "Index: 446789 entries, 0 to 899057\n",
      "Data columns (total 16 columns):\n",
      " #   Column            Non-Null Count   Dtype         \n",
      "---  ------            --------------   -----         \n",
      " 0   Monthono          446789 non-null  object        \n",
      " 1   Client            446789 non-null  object        \n",
      " 2   Classe            446789 non-null  object        \n",
      " 3   Date_effet        446789 non-null  datetime64[ns]\n",
      " 4   Filiale           446789 non-null  object        \n",
      " 5   ID                446789 non-null  object        \n",
      " 6   Prime             446789 non-null  object        \n",
      " 7   Branche           446789 non-null  object        \n",
      " 8   Code_DR           446789 non-null  object        \n",
      " 9   Code_agence       446789 non-null  object        \n",
      " 10  Date_echeance     446789 non-null  datetime64[ns]\n",
      " 11  Mois              446789 non-null  object        \n",
      " 12  Reglement         446789 non-null  object        \n",
      " 13  Produit           446789 non-null  object        \n",
      " 14  Date_declaration  446789 non-null  datetime64[ns]\n",
      " 15  Date_reglement    446789 non-null  datetime64[ns]\n",
      "dtypes: datetime64[ns](4), object(12)\n",
      "memory usage: 57.9+ MB\n"
     ]
    }
   ],
   "source": [
    "df1.info()"
   ]
  },
  {
   "cell_type": "code",
   "execution_count": 25,
   "id": "78104e7e-d0fd-4a0f-adaa-e59ac713df39",
   "metadata": {},
   "outputs": [
    {
     "name": "stdout",
     "output_type": "stream",
     "text": [
      "Defaulting to user installation because normal site-packages is not writeable\n",
      "Requirement already satisfied: datetime in c:\\users\\dell\\appdata\\roaming\\python\\python311\\site-packages (5.5)\n",
      "Requirement already satisfied: zope.interface in c:\\programdata\\anaconda3\\lib\\site-packages (from datetime) (5.4.0)\n",
      "Requirement already satisfied: pytz in c:\\programdata\\anaconda3\\lib\\site-packages (from datetime) (2023.3.post1)\n",
      "Requirement already satisfied: setuptools in c:\\programdata\\anaconda3\\lib\\site-packages (from zope.interface->datetime) (68.2.2)\n"
     ]
    }
   ],
   "source": [
    "!pip install datetime"
   ]
  },
  {
   "cell_type": "code",
   "execution_count": 26,
   "id": "bc280e99-194f-4bd5-92a0-2cd9d9f1be98",
   "metadata": {},
   "outputs": [],
   "source": [
    "from datetime import datetime"
   ]
  },
  {
   "cell_type": "code",
   "execution_count": 31,
   "id": "786a5aca-77df-421d-ad6e-8fae8e8ad8a2",
   "metadata": {},
   "outputs": [
    {
     "data": {
      "text/html": [
       "<div>\n",
       "<style scoped>\n",
       "    .dataframe tbody tr th:only-of-type {\n",
       "        vertical-align: middle;\n",
       "    }\n",
       "\n",
       "    .dataframe tbody tr th {\n",
       "        vertical-align: top;\n",
       "    }\n",
       "\n",
       "    .dataframe thead th {\n",
       "        text-align: right;\n",
       "    }\n",
       "</style>\n",
       "<table border=\"1\" class=\"dataframe\">\n",
       "  <thead>\n",
       "    <tr style=\"text-align: right;\">\n",
       "      <th></th>\n",
       "      <th>Date_effet</th>\n",
       "      <th>Date_echeance</th>\n",
       "      <th>Date_declaration</th>\n",
       "      <th>Date_reglement</th>\n",
       "    </tr>\n",
       "  </thead>\n",
       "  <tbody>\n",
       "    <tr>\n",
       "      <th>count</th>\n",
       "      <td>446789</td>\n",
       "      <td>446789</td>\n",
       "      <td>446789</td>\n",
       "      <td>446789</td>\n",
       "    </tr>\n",
       "    <tr>\n",
       "      <th>mean</th>\n",
       "      <td>2021-03-15 13:42:29.576645632</td>\n",
       "      <td>2022-02-04 16:46:26.346127616</td>\n",
       "      <td>2021-08-08 09:40:09.537387776</td>\n",
       "      <td>2021-11-02 15:13:13.413445632</td>\n",
       "    </tr>\n",
       "    <tr>\n",
       "      <th>min</th>\n",
       "      <td>2014-01-17 00:00:00</td>\n",
       "      <td>1930-02-05 00:00:00</td>\n",
       "      <td>2008-09-10 00:00:00</td>\n",
       "      <td>2014-12-31 00:00:00</td>\n",
       "    </tr>\n",
       "    <tr>\n",
       "      <th>25%</th>\n",
       "      <td>2021-01-01 00:00:00</td>\n",
       "      <td>2021-12-31 00:00:00</td>\n",
       "      <td>2021-11-07 00:00:00</td>\n",
       "      <td>2021-12-31 00:00:00</td>\n",
       "    </tr>\n",
       "    <tr>\n",
       "      <th>50%</th>\n",
       "      <td>2021-01-01 00:00:00</td>\n",
       "      <td>2021-12-31 00:00:00</td>\n",
       "      <td>2021-11-07 00:00:00</td>\n",
       "      <td>2021-12-31 00:00:00</td>\n",
       "    </tr>\n",
       "    <tr>\n",
       "      <th>75%</th>\n",
       "      <td>2021-12-27 00:00:00</td>\n",
       "      <td>2022-11-16 00:00:00</td>\n",
       "      <td>2021-11-07 00:00:00</td>\n",
       "      <td>2022-12-30 00:00:00</td>\n",
       "    </tr>\n",
       "    <tr>\n",
       "      <th>max</th>\n",
       "      <td>2023-05-06 00:00:00</td>\n",
       "      <td>2032-10-30 00:00:00</td>\n",
       "      <td>2022-12-31 00:00:00</td>\n",
       "      <td>2023-12-31 00:00:00</td>\n",
       "    </tr>\n",
       "  </tbody>\n",
       "</table>\n",
       "</div>"
      ],
      "text/plain": [
       "                          Date_effet                  Date_echeance  \\\n",
       "count                         446789                         446789   \n",
       "mean   2021-03-15 13:42:29.576645632  2022-02-04 16:46:26.346127616   \n",
       "min              2014-01-17 00:00:00            1930-02-05 00:00:00   \n",
       "25%              2021-01-01 00:00:00            2021-12-31 00:00:00   \n",
       "50%              2021-01-01 00:00:00            2021-12-31 00:00:00   \n",
       "75%              2021-12-27 00:00:00            2022-11-16 00:00:00   \n",
       "max              2023-05-06 00:00:00            2032-10-30 00:00:00   \n",
       "\n",
       "                    Date_declaration                 Date_reglement  \n",
       "count                         446789                         446789  \n",
       "mean   2021-08-08 09:40:09.537387776  2021-11-02 15:13:13.413445632  \n",
       "min              2008-09-10 00:00:00            2014-12-31 00:00:00  \n",
       "25%              2021-11-07 00:00:00            2021-12-31 00:00:00  \n",
       "50%              2021-11-07 00:00:00            2021-12-31 00:00:00  \n",
       "75%              2021-11-07 00:00:00            2022-12-30 00:00:00  \n",
       "max              2022-12-31 00:00:00            2023-12-31 00:00:00  "
      ]
     },
     "execution_count": 31,
     "metadata": {},
     "output_type": "execute_result"
    }
   ],
   "source": [
    "df1.describe()"
   ]
  },
  {
   "cell_type": "code",
   "execution_count": 24,
   "id": "6f0f42e7-291c-4d56-8c54-748693868e42",
   "metadata": {},
   "outputs": [
    {
     "name": "stderr",
     "output_type": "stream",
     "text": [
      "C:\\Users\\dell\\AppData\\Local\\Temp\\ipykernel_27636\\236963609.py:6: SettingWithCopyWarning: \n",
      "A value is trying to be set on a copy of a slice from a DataFrame.\n",
      "Try using .loc[row_indexer,col_indexer] = value instead\n",
      "\n",
      "See the caveats in the documentation: https://pandas.pydata.org/pandas-docs/stable/user_guide/indexing.html#returning-a-view-versus-a-copy\n",
      "  df1[columns_to_convert] = df1[columns_to_convert].apply(pd.to_numeric, errors='coerce')\n"
     ]
    }
   ],
   "source": [
    "# Columns to convert to numeric\n",
    "columns_to_convert = ['Monthono','Prime','Mois',\n",
    "       'Reglement    ']\n",
    "\n",
    "# Convert specific columns to numeric, coercing errors to NaN\n",
    "df1[columns_to_convert] = df1[columns_to_convert].apply(pd.to_numeric, errors='coerce')"
   ]
  },
  {
   "cell_type": "code",
   "execution_count": 122,
   "id": "aaef5183-6ada-4fa3-aca8-c5ee19bde98d",
   "metadata": {},
   "outputs": [
    {
     "name": "stdout",
     "output_type": "stream",
     "text": [
      "<class 'pandas.core.frame.DataFrame'>\n",
      "Index: 446789 entries, 0 to 899057\n",
      "Data columns (total 16 columns):\n",
      " #   Column            Non-Null Count   Dtype         \n",
      "---  ------            --------------   -----         \n",
      " 0   Monthono          446789 non-null  float64       \n",
      " 1   Client            446789 non-null  object        \n",
      " 2   Classe            446789 non-null  object        \n",
      " 3   Date_effet        446789 non-null  datetime64[ns]\n",
      " 4   Filiale           446789 non-null  object        \n",
      " 5   ID                446789 non-null  object        \n",
      " 6   Prime             446788 non-null  float64       \n",
      " 7   Branche           446789 non-null  object        \n",
      " 8   Code_DR           446789 non-null  object        \n",
      " 9   Code_agence       446789 non-null  object        \n",
      " 10  Date_echeance     446789 non-null  datetime64[ns]\n",
      " 11  Mois              446788 non-null  float64       \n",
      " 12  Reglement         446789 non-null  float64       \n",
      " 13  Produit           446789 non-null  object        \n",
      " 14  Date_declaration  446789 non-null  datetime64[ns]\n",
      " 15  Date_reglement    446789 non-null  datetime64[ns]\n",
      "dtypes: datetime64[ns](4), float64(4), object(8)\n",
      "memory usage: 57.9+ MB\n"
     ]
    }
   ],
   "source": [
    "df1.info()"
   ]
  },
  {
   "cell_type": "code",
   "execution_count": 25,
   "id": "79c27781-1179-43b9-977a-e7ac589d92cb",
   "metadata": {},
   "outputs": [
    {
     "name": "stderr",
     "output_type": "stream",
     "text": [
      "C:\\Users\\dell\\AppData\\Local\\Temp\\ipykernel_27636\\2992426354.py:12: SettingWithCopyWarning: \n",
      "A value is trying to be set on a copy of a slice from a DataFrame.\n",
      "Try using .loc[row_indexer,col_indexer] = value instead\n",
      "\n",
      "See the caveats in the documentation: https://pandas.pydata.org/pandas-docs/stable/user_guide/indexing.html#returning-a-view-versus-a-copy\n",
      "  df1[column] = df1[column].apply(lambda x: mean_value if x < lower_bound or x > upper_bound else x)\n",
      "C:\\Users\\dell\\AppData\\Local\\Temp\\ipykernel_27636\\2992426354.py:12: SettingWithCopyWarning: \n",
      "A value is trying to be set on a copy of a slice from a DataFrame.\n",
      "Try using .loc[row_indexer,col_indexer] = value instead\n",
      "\n",
      "See the caveats in the documentation: https://pandas.pydata.org/pandas-docs/stable/user_guide/indexing.html#returning-a-view-versus-a-copy\n",
      "  df1[column] = df1[column].apply(lambda x: mean_value if x < lower_bound or x > upper_bound else x)\n",
      "C:\\Users\\dell\\AppData\\Local\\Temp\\ipykernel_27636\\2992426354.py:12: SettingWithCopyWarning: \n",
      "A value is trying to be set on a copy of a slice from a DataFrame.\n",
      "Try using .loc[row_indexer,col_indexer] = value instead\n",
      "\n",
      "See the caveats in the documentation: https://pandas.pydata.org/pandas-docs/stable/user_guide/indexing.html#returning-a-view-versus-a-copy\n",
      "  df1[column] = df1[column].apply(lambda x: mean_value if x < lower_bound or x > upper_bound else x)\n",
      "C:\\Users\\dell\\AppData\\Local\\Temp\\ipykernel_27636\\2992426354.py:12: SettingWithCopyWarning: \n",
      "A value is trying to be set on a copy of a slice from a DataFrame.\n",
      "Try using .loc[row_indexer,col_indexer] = value instead\n",
      "\n",
      "See the caveats in the documentation: https://pandas.pydata.org/pandas-docs/stable/user_guide/indexing.html#returning-a-view-versus-a-copy\n",
      "  df1[column] = df1[column].apply(lambda x: mean_value if x < lower_bound or x > upper_bound else x)\n"
     ]
    }
   ],
   "source": [
    "def df2(df1):\n",
    "    for column in df1.columns:\n",
    "        if df1[column].dtype in ['int64', 'float64']:  # Handle numerical columns\n",
    "            Q1 = df1[column].quantile(0.25)\n",
    "            Q3 = df1[column].quantile(0.75)\n",
    "            IQR = Q3 - Q1\n",
    "            lower_bound = Q1 - 1.5 * IQR\n",
    "            upper_bound = Q3 + 1.5 * IQR\n",
    "            mean_value = df1[column].mean()\n",
    "            \n",
    "            # Replace outliers with mean\n",
    "            df1[column] = df1[column].apply(lambda x: mean_value if x < lower_bound or x > upper_bound else x)\n",
    "    \n",
    "    return df1\n",
    "\n",
    "# Apply the function\n",
    "df1 = df2(df1)"
   ]
  },
  {
   "cell_type": "code",
   "execution_count": 98,
   "id": "e5fb2d9f-0f7a-4458-b65e-ff7ea1a83c3f",
   "metadata": {},
   "outputs": [],
   "source": [
    "#value counts :"
   ]
  },
  {
   "cell_type": "code",
   "execution_count": 36,
   "id": "28dd31b1-3cec-4739-aa3e-10cf437573c1",
   "metadata": {},
   "outputs": [
    {
     "name": "stdout",
     "output_type": "stream",
     "text": [
      "Index(['Monthono', 'Client ', 'Classe', 'Date_effet', 'Filiale ', 'ID',\n",
      "       'Prime', 'Branche', 'Code_DR', 'Code_agence', 'Date_echeance', 'Mois',\n",
      "       'Reglement    ', 'Produit', 'Date_declaration', 'Date_reglement'],\n",
      "      dtype='object')\n"
     ]
    }
   ],
   "source": [
    "print(df.columns)"
   ]
  },
  {
   "cell_type": "code",
   "execution_count": null,
   "id": "2ea84e34-0f0d-409b-b284-0b6129df30e0",
   "metadata": {},
   "outputs": [],
   "source": [
    "df['branche'].value_counts()"
   ]
  },
  {
   "cell_type": "code",
   "execution_count": null,
   "id": "cbaca971-4d90-4abd-80f5-6d196c83c8ac",
   "metadata": {},
   "outputs": [],
   "source": [
    "df['FILIALE/G.Entreprise,Industrie'].value_counts()"
   ]
  },
  {
   "cell_type": "code",
   "execution_count": null,
   "id": "8f3d9bfc-1201-4ab6-b5c0-57bfd415755a",
   "metadata": {},
   "outputs": [],
   "source": [
    "df['produit'].value_counts()"
   ]
  },
  {
   "cell_type": "code",
   "execution_count": null,
   "id": "07f11fb1-e70e-4054-92d6-71ed01b48d1d",
   "metadata": {},
   "outputs": [],
   "source": [
    "df['code_DR'].value_counts()"
   ]
  },
  {
   "cell_type": "code",
   "execution_count": null,
   "id": "2f8e6155-b4ca-4a63-8ba7-f45ac160f813",
   "metadata": {},
   "outputs": [],
   "source": [
    "df['code_agence'].value_counts()"
   ]
  },
  {
   "cell_type": "code",
   "execution_count": null,
   "id": "abc7c9ba-ef73-4f1f-8a6e-07cf30f88531",
   "metadata": {},
   "outputs": [],
   "source": [
    "## Analyse univarie :"
   ]
  },
  {
   "cell_type": "code",
   "execution_count": null,
   "id": "60006167-eb94-4256-83ac-f21946f85b41",
   "metadata": {},
   "outputs": [],
   "source": [
    "# categorial vars : "
   ]
  },
  {
   "cell_type": "code",
   "execution_count": null,
   "id": "5e6aa492-0138-4230-92cc-cd905b4137d6",
   "metadata": {},
   "outputs": [],
   "source": [
    "df.describe(include='all')"
   ]
  },
  {
   "cell_type": "code",
   "execution_count": null,
   "id": "57b98e2e-50f8-4d57-9379-597c0c4fd773",
   "metadata": {},
   "outputs": [],
   "source": [
    "value_counts_series=df['ASSURE'].value_counts()\n",
    "df_value_counts = pd.DataFrame({'ASSURE': value_counts_series.index, 'Count': value_counts_series.values})\n",
    "df_value_counts['percentage']=df_value_counts['Count']/(899059)\n",
    "print(df_value_counts)"
   ]
  },
  {
   "cell_type": "code",
   "execution_count": null,
   "id": "d29b0ff2-4aa4-4de3-9aaa-864850c2246d",
   "metadata": {},
   "outputs": [],
   "source": [
    "plt.figure(figsize=(12,8))\n",
    "sns.barplot(x=df_value_counts['ASSURE'], y=df_value_counts['Count'],palette='viridis')\n",
    "plt.xlabel(\"ASSURE\")\n",
    "plt.ylabel(\" counts\")\n",
    "plt.title(\" counts\")"
   ]
  },
  {
   "cell_type": "code",
   "execution_count": null,
   "id": "f62fcd67-a26c-41d2-892f-cc1ef720d6be",
   "metadata": {},
   "outputs": [],
   "source": [
    "T=df[' monthono'].value_counts().sum()\n",
    "T"
   ]
  },
  {
   "cell_type": "code",
   "execution_count": null,
   "id": "32128dd8-144f-4b11-bec7-809cf5f44bf2",
   "metadata": {},
   "outputs": [],
   "source": [
    "value_counts_series=df['CLASS'].value_counts()\n",
    "df_value_counts = pd.DataFrame({'CLASS': value_counts_series.index, 'Count': value_counts_series.values})\n",
    "df_value_counts['percentage']=df_value_counts['Count']/(899059)\n",
    "print(df_value_counts)"
   ]
  },
  {
   "cell_type": "code",
   "execution_count": null,
   "id": "c85d0d23-5235-4455-8629-61147c450561",
   "metadata": {},
   "outputs": [],
   "source": [
    "plt.figure(figsize=(12,8))\n",
    "sns.barplot(x=df_value_counts['CLASS'], y=df_value_counts['Count'],palette='viridis')\n",
    "plt.xlabel(\"ASSURE\")\n",
    "plt.ylabel(\" counts\")\n",
    "plt.title(\" counts\")"
   ]
  },
  {
   "cell_type": "code",
   "execution_count": null,
   "id": "e3507a06-c29b-4ddb-814b-ed27222d300c",
   "metadata": {},
   "outputs": [],
   "source": [
    "value_counts_series=df['Date_effet'].value_counts()\n",
    "df_value_counts = pd.DataFrame({'Date_effet': value_counts_series.index, 'Count': value_counts_series.values})\n",
    "df_value_counts['percentage']=df_value_counts['Count']/(899059)\n",
    "print(df_value_counts)"
   ]
  },
  {
   "cell_type": "code",
   "execution_count": null,
   "id": "82de2064-882f-40f1-8b99-f7fc514a1d62",
   "metadata": {},
   "outputs": [],
   "source": [
    "plt.figure(figsize=(12,8))\n",
    "sns.barplot(x=df_value_counts['Date_effet'], y=df_value_counts['Count'],palette='viridis')\n",
    "plt.xlabel(\"Date_effet\")\n",
    "plt.ylabel(\" counts\")\n",
    "plt.title(\" counts\")"
   ]
  },
  {
   "cell_type": "code",
   "execution_count": null,
   "id": "56fd6063-6c25-435d-9fbb-e33a7e0beb7e",
   "metadata": {},
   "outputs": [],
   "source": [
    "value_counts_series=df['FILIALE/G.Entreprise,Industrie'].value_counts()\n",
    "df_value_counts = pd.DataFrame({'FILIALE/G.Entreprise,Industrie': value_counts_series.index, 'Count': value_counts_series.values})\n",
    "df_value_counts['percentage']=df_value_counts['Count']/(899059)\n",
    "print(df_value_counts)"
   ]
  },
  {
   "cell_type": "code",
   "execution_count": null,
   "id": "7439e745-9fe5-49ba-814d-fd8c2df9176e",
   "metadata": {},
   "outputs": [],
   "source": [
    "plt.figure(figsize=(12,8))\n",
    "sns.barplot(x=df_value_counts['FILIALE/G.Entreprise,Industrie'], y=df_value_counts['Count'],palette='viridis')\n",
    "plt.xlabel(\"FILIALE/G.Entreprise,Industrie\")\n",
    "plt.ylabel(\" counts\")\n",
    "plt.title(\" counts\")"
   ]
  },
  {
   "cell_type": "code",
   "execution_count": null,
   "id": "d94c2848-2114-4b40-9e60-6c223c59fc91",
   "metadata": {},
   "outputs": [],
   "source": [
    "value_counts_series=df['ID'].value_counts()\n",
    "df_value_counts = pd.DataFrame({'ID': value_counts_series.index, 'Count': value_counts_series.values})\n",
    "df_value_counts['percentage']=df_value_counts['Count']/(899059)\n",
    "print(df_value_counts)"
   ]
  },
  {
   "cell_type": "code",
   "execution_count": null,
   "id": "8902fabe-e64a-4d78-8478-56ab35fee6f6",
   "metadata": {},
   "outputs": [],
   "source": [
    "plt.figure(figsize=(12,8))\n",
    "sns.barplot(x=df_value_counts['ID'], y=df_value_counts['Count'],palette='viridis')\n",
    "plt.xlabel(\"ID\")\n",
    "plt.ylabel(\" counts\")\n",
    "plt.title(\" counts\")"
   ]
  },
  {
   "cell_type": "code",
   "execution_count": null,
   "id": "fbc17a0d-e87c-4597-bd44-bf587ca1cb1d",
   "metadata": {},
   "outputs": [],
   "source": [
    "value_counts_series=df['branche'].value_counts()\n",
    "df_value_counts = pd.DataFrame({'branche': value_counts_series.index, 'Count': value_counts_series.values})\n",
    "df_value_counts['percentage']=df_value_counts['Count']/(899059)\n",
    "print(df_value_counts)"
   ]
  },
  {
   "cell_type": "code",
   "execution_count": null,
   "id": "38840da6-c8a2-42e0-8656-1878ef782649",
   "metadata": {},
   "outputs": [],
   "source": [
    "plt.figure(figsize=(12,8))\n",
    "sns.barplot(x=df_value_counts['branche'], y=df_value_counts['Count'],palette='viridis')\n",
    "plt.xlabel(\"branche\")\n",
    "plt.ylabel(\" counts\")\n",
    "plt.title(\" counts\")"
   ]
  },
  {
   "cell_type": "code",
   "execution_count": null,
   "id": "15092bf1-6eb0-4a6e-9181-1af890896cf5",
   "metadata": {},
   "outputs": [],
   "source": [
    "value_counts_series=df['produit'].value_counts()\n",
    "df_value_counts = pd.DataFrame({'produit': value_counts_series.index, 'Count': value_counts_series.values})\n",
    "df_value_counts['percentage']=df_value_counts['Count']/(899059)\n",
    "print(df_value_counts)"
   ]
  },
  {
   "cell_type": "code",
   "execution_count": null,
   "id": "8ac265c0-e5ee-4951-b3a7-9c786f44919d",
   "metadata": {},
   "outputs": [],
   "source": [
    "plt.figure(figsize=(12,8))\n",
    "sns.barplot(x=df_value_counts['produit'], y=df_value_counts['Count'],palette='viridis')\n",
    "plt.xlabel(\"produit\")\n",
    "plt.ylabel(\" counts\")\n",
    "plt.title(\" counts\")"
   ]
  },
  {
   "cell_type": "code",
   "execution_count": null,
   "id": "2e8d3749-ef6e-4712-ace8-70f9608b9265",
   "metadata": {},
   "outputs": [],
   "source": [
    "# mumerical vars : "
   ]
  },
  {
   "cell_type": "code",
   "execution_count": null,
   "id": "4ded8ce2-dfd7-4813-89af-f48edc5771ff",
   "metadata": {},
   "outputs": [],
   "source": [
    "df.describe(include='integer')"
   ]
  },
  {
   "cell_type": "code",
   "execution_count": null,
   "id": "69d266d8-69c0-4eb0-b724-cc7e8f11fe6d",
   "metadata": {},
   "outputs": [],
   "source": [
    "df.boxplot(column='code_DR')\n",
    "\n",
    "plt.title('Box plot of code_DR')\n",
    "plt.ylabel('code_DR')\n",
    "\n",
    "plt.show()"
   ]
  },
  {
   "cell_type": "code",
   "execution_count": null,
   "id": "c439d21c-cc19-4ea3-b827-ca45b1d01de4",
   "metadata": {},
   "outputs": [],
   "source": [
    "df.boxplot(column='code_agence')\n",
    "\n",
    "plt.title('Box plot of \tcode_agence')\n",
    "plt.ylabel('code_agence')\n",
    "\n",
    "plt.show()"
   ]
  },
  {
   "cell_type": "code",
   "execution_count": null,
   "id": "a69b1732-2f92-42fa-b65d-f8516272840c",
   "metadata": {},
   "outputs": [],
   "source": [
    "df.boxplot(column='mois')\n",
    "\n",
    "plt.title('Box plot of\tmois')\n",
    "plt.ylabel('mois')\n",
    "\n",
    "plt.show()"
   ]
  },
  {
   "cell_type": "code",
   "execution_count": null,
   "id": "d97e695d-c5e5-4681-a938-8b426daac57e",
   "metadata": {},
   "outputs": [],
   "source": [
    "plt.hist(df['mois'], bins=10, color='pink', edgecolor='black')\n",
    "\n",
    "plt.xlabel('mois')\n",
    "plt.ylabel('Frequency')\n",
    "plt.title('Histogram of mois')\n",
    "plt.grid(True)\n",
    "\n",
    "plt.show()"
   ]
  },
  {
   "cell_type": "code",
   "execution_count": null,
   "id": "142a8160-f5fe-4f97-a664-eeda66264485",
   "metadata": {},
   "outputs": [],
   "source": [
    "df.describe(include='float')"
   ]
  },
  {
   "cell_type": "code",
   "execution_count": null,
   "id": "518bafb5-1a34-4a9b-8e0f-6fad7fbd5cd6",
   "metadata": {},
   "outputs": [],
   "source": [
    "df.boxplot(column='Prime')\n",
    "\n",
    "plt.title('Box plot of\tPrime')\n",
    "plt.ylabel('Prime')\n",
    "\n",
    "plt.show()"
   ]
  },
  {
   "cell_type": "code",
   "execution_count": null,
   "id": "f3b87069-cf94-4c8e-a542-fc68183449d4",
   "metadata": {},
   "outputs": [],
   "source": [
    "df.boxplot(column='principal')\n",
    "\n",
    "plt.title('Box plot of\tprincipal')\n",
    "plt.ylabel('principal')\n",
    "\n",
    "plt.show()"
   ]
  },
  {
   "cell_type": "code",
   "execution_count": null,
   "id": "5150b831-8bbc-47fb-8886-2e9bf7cf5389",
   "metadata": {},
   "outputs": [],
   "source": [
    "df.boxplot(column='monthono')\n",
    "\n",
    "plt.title('Box plot of\tmonthono\t')\n",
    "plt.ylabel('monthono')\n",
    "\n",
    "plt.show()"
   ]
  },
  {
   "cell_type": "code",
   "execution_count": 41,
   "id": "be3ad128-8e7b-4802-b708-daa06cf68761",
   "metadata": {},
   "outputs": [
    {
     "data": {
      "text/html": [
       "<div>\n",
       "<style scoped>\n",
       "    .dataframe tbody tr th:only-of-type {\n",
       "        vertical-align: middle;\n",
       "    }\n",
       "\n",
       "    .dataframe tbody tr th {\n",
       "        vertical-align: top;\n",
       "    }\n",
       "\n",
       "    .dataframe thead th {\n",
       "        text-align: right;\n",
       "    }\n",
       "</style>\n",
       "<table border=\"1\" class=\"dataframe\">\n",
       "  <thead>\n",
       "    <tr style=\"text-align: right;\">\n",
       "      <th></th>\n",
       "      <th>Monthono</th>\n",
       "      <th>Client</th>\n",
       "      <th>Classe</th>\n",
       "      <th>Date_effet</th>\n",
       "      <th>Filiale</th>\n",
       "      <th>ID</th>\n",
       "      <th>Prime</th>\n",
       "      <th>Branche</th>\n",
       "      <th>Code_DR</th>\n",
       "      <th>Code_agence</th>\n",
       "      <th>Date_echeance</th>\n",
       "      <th>Mois</th>\n",
       "      <th>Reglement</th>\n",
       "      <th>Produit</th>\n",
       "      <th>Date_declaration</th>\n",
       "      <th>Date_reglement</th>\n",
       "    </tr>\n",
       "  </thead>\n",
       "  <tbody>\n",
       "    <tr>\n",
       "      <th>0</th>\n",
       "      <td>0.0</td>\n",
       "      <td>APC</td>\n",
       "      <td>COLLECTIVITE LOCALE</td>\n",
       "      <td>2021-03-30</td>\n",
       "      <td>NON DEFINI</td>\n",
       "      <td>1100009189-3409</td>\n",
       "      <td>1700.000000</td>\n",
       "      <td>AUTO</td>\n",
       "      <td>34</td>\n",
       "      <td>3409</td>\n",
       "      <td>2022-03-29</td>\n",
       "      <td>3.0</td>\n",
       "      <td>0.00000</td>\n",
       "      <td>Automobile Flotte</td>\n",
       "      <td>2021-11-07</td>\n",
       "      <td>2021-12-31</td>\n",
       "    </tr>\n",
       "    <tr>\n",
       "      <th>1</th>\n",
       "      <td>0.0</td>\n",
       "      <td>APC</td>\n",
       "      <td>COLLECTIVITE LOCALE</td>\n",
       "      <td>2021-03-30</td>\n",
       "      <td>NON DEFINI</td>\n",
       "      <td>1100009189-3409</td>\n",
       "      <td>2302.260010</td>\n",
       "      <td>AUTO</td>\n",
       "      <td>34</td>\n",
       "      <td>3409</td>\n",
       "      <td>2022-03-29</td>\n",
       "      <td>3.0</td>\n",
       "      <td>0.00000</td>\n",
       "      <td>Automobile Flotte</td>\n",
       "      <td>2021-11-07</td>\n",
       "      <td>2021-12-31</td>\n",
       "    </tr>\n",
       "    <tr>\n",
       "      <th>2</th>\n",
       "      <td>0.0</td>\n",
       "      <td>APC</td>\n",
       "      <td>COLLECTIVITE LOCALE</td>\n",
       "      <td>2021-03-30</td>\n",
       "      <td>NON DEFINI</td>\n",
       "      <td>1100009189-3409</td>\n",
       "      <td>500.000000</td>\n",
       "      <td>AUTO</td>\n",
       "      <td>34</td>\n",
       "      <td>3409</td>\n",
       "      <td>2022-03-29</td>\n",
       "      <td>3.0</td>\n",
       "      <td>0.00000</td>\n",
       "      <td>Automobile Flotte</td>\n",
       "      <td>2021-11-07</td>\n",
       "      <td>2021-12-31</td>\n",
       "    </tr>\n",
       "    <tr>\n",
       "      <th>4</th>\n",
       "      <td>0.0</td>\n",
       "      <td>APC</td>\n",
       "      <td>COLLECTIVITE LOCALE</td>\n",
       "      <td>2021-03-30</td>\n",
       "      <td>NON DEFINI</td>\n",
       "      <td>1100009189-3409</td>\n",
       "      <td>3069.679932</td>\n",
       "      <td>AUTO</td>\n",
       "      <td>34</td>\n",
       "      <td>3409</td>\n",
       "      <td>2022-03-29</td>\n",
       "      <td>3.0</td>\n",
       "      <td>0.00000</td>\n",
       "      <td>Automobile Flotte</td>\n",
       "      <td>2021-11-07</td>\n",
       "      <td>2021-12-31</td>\n",
       "    </tr>\n",
       "    <tr>\n",
       "      <th>6</th>\n",
       "      <td>0.0</td>\n",
       "      <td>APC</td>\n",
       "      <td>COLLECTIVITE LOCALE</td>\n",
       "      <td>2021-03-30</td>\n",
       "      <td>NON DEFINI</td>\n",
       "      <td>1100009189-3409</td>\n",
       "      <td>300.000000</td>\n",
       "      <td>AUTO</td>\n",
       "      <td>34</td>\n",
       "      <td>3409</td>\n",
       "      <td>2022-03-29</td>\n",
       "      <td>3.0</td>\n",
       "      <td>0.00000</td>\n",
       "      <td>Automobile Flotte</td>\n",
       "      <td>2021-11-07</td>\n",
       "      <td>2021-12-31</td>\n",
       "    </tr>\n",
       "    <tr>\n",
       "      <th>...</th>\n",
       "      <td>...</td>\n",
       "      <td>...</td>\n",
       "      <td>...</td>\n",
       "      <td>...</td>\n",
       "      <td>...</td>\n",
       "      <td>...</td>\n",
       "      <td>...</td>\n",
       "      <td>...</td>\n",
       "      <td>...</td>\n",
       "      <td>...</td>\n",
       "      <td>...</td>\n",
       "      <td>...</td>\n",
       "      <td>...</td>\n",
       "      <td>...</td>\n",
       "      <td>...</td>\n",
       "      <td>...</td>\n",
       "    </tr>\n",
       "    <tr>\n",
       "      <th>899053</th>\n",
       "      <td>0.0</td>\n",
       "      <td>MIHOUBI MOHAMED AMINE</td>\n",
       "      <td>ENTREPRISE</td>\n",
       "      <td>2021-01-01</td>\n",
       "      <td>NON DEFINI</td>\n",
       "      <td>2212000007-32401</td>\n",
       "      <td>0.000000</td>\n",
       "      <td>DAA</td>\n",
       "      <td>23</td>\n",
       "      <td>32401</td>\n",
       "      <td>2021-12-31</td>\n",
       "      <td>1.0</td>\n",
       "      <td>229.47623</td>\n",
       "      <td>Multirisque Bétail</td>\n",
       "      <td>2018-12-12</td>\n",
       "      <td>2018-12-31</td>\n",
       "    </tr>\n",
       "    <tr>\n",
       "      <th>899054</th>\n",
       "      <td>0.0</td>\n",
       "      <td>MIHOUBI MOHAMED AMINE</td>\n",
       "      <td>ENTREPRISE</td>\n",
       "      <td>2021-01-01</td>\n",
       "      <td>NON DEFINI</td>\n",
       "      <td>2212000007-32401</td>\n",
       "      <td>0.000000</td>\n",
       "      <td>DAA</td>\n",
       "      <td>23</td>\n",
       "      <td>32401</td>\n",
       "      <td>2021-12-31</td>\n",
       "      <td>1.0</td>\n",
       "      <td>229.47623</td>\n",
       "      <td>Multirisque Bétail</td>\n",
       "      <td>2018-12-16</td>\n",
       "      <td>2018-12-31</td>\n",
       "    </tr>\n",
       "    <tr>\n",
       "      <th>899055</th>\n",
       "      <td>0.0</td>\n",
       "      <td>MIHOUBI MOHAMED AMINE</td>\n",
       "      <td>ENTREPRISE</td>\n",
       "      <td>2021-01-01</td>\n",
       "      <td>NON DEFINI</td>\n",
       "      <td>2212000007-32401</td>\n",
       "      <td>0.000000</td>\n",
       "      <td>DAA</td>\n",
       "      <td>23</td>\n",
       "      <td>32401</td>\n",
       "      <td>2021-12-31</td>\n",
       "      <td>1.0</td>\n",
       "      <td>229.47623</td>\n",
       "      <td>Multirisque Bétail</td>\n",
       "      <td>2018-12-16</td>\n",
       "      <td>2018-12-31</td>\n",
       "    </tr>\n",
       "    <tr>\n",
       "      <th>899056</th>\n",
       "      <td>0.0</td>\n",
       "      <td>MEDI AQUA FISH</td>\n",
       "      <td>ENTREPRISE</td>\n",
       "      <td>2021-01-01</td>\n",
       "      <td>NON DEFINI</td>\n",
       "      <td>2216000003-32408</td>\n",
       "      <td>0.000000</td>\n",
       "      <td>DAA</td>\n",
       "      <td>23</td>\n",
       "      <td>32408</td>\n",
       "      <td>2021-12-31</td>\n",
       "      <td>1.0</td>\n",
       "      <td>229.47623</td>\n",
       "      <td>Multirisque Aquacole</td>\n",
       "      <td>2018-10-06</td>\n",
       "      <td>2018-12-26</td>\n",
       "    </tr>\n",
       "    <tr>\n",
       "      <th>899057</th>\n",
       "      <td>0.0</td>\n",
       "      <td>MEDI AQUA FISH</td>\n",
       "      <td>ENTREPRISE</td>\n",
       "      <td>2021-01-01</td>\n",
       "      <td>NON DEFINI</td>\n",
       "      <td>2216000003-32408</td>\n",
       "      <td>0.000000</td>\n",
       "      <td>DAA</td>\n",
       "      <td>23</td>\n",
       "      <td>32408</td>\n",
       "      <td>2021-12-31</td>\n",
       "      <td>1.0</td>\n",
       "      <td>229.47623</td>\n",
       "      <td>Multirisque Aquacole</td>\n",
       "      <td>2018-10-06</td>\n",
       "      <td>2018-12-26</td>\n",
       "    </tr>\n",
       "  </tbody>\n",
       "</table>\n",
       "<p>446789 rows × 16 columns</p>\n",
       "</div>"
      ],
      "text/plain": [
       "        Monthono                Client                Classe Date_effet  \\\n",
       "0            0.0                    APC  COLLECTIVITE LOCALE 2021-03-30   \n",
       "1            0.0                    APC  COLLECTIVITE LOCALE 2021-03-30   \n",
       "2            0.0                    APC  COLLECTIVITE LOCALE 2021-03-30   \n",
       "4            0.0                    APC  COLLECTIVITE LOCALE 2021-03-30   \n",
       "6            0.0                    APC  COLLECTIVITE LOCALE 2021-03-30   \n",
       "...          ...                    ...                  ...        ...   \n",
       "899053       0.0  MIHOUBI MOHAMED AMINE           ENTREPRISE 2021-01-01   \n",
       "899054       0.0  MIHOUBI MOHAMED AMINE           ENTREPRISE 2021-01-01   \n",
       "899055       0.0  MIHOUBI MOHAMED AMINE           ENTREPRISE 2021-01-01   \n",
       "899056       0.0         MEDI AQUA FISH           ENTREPRISE 2021-01-01   \n",
       "899057       0.0         MEDI AQUA FISH           ENTREPRISE 2021-01-01   \n",
       "\n",
       "          Filiale                 ID        Prime Branche Code_DR Code_agence  \\\n",
       "0       NON DEFINI   1100009189-3409  1700.000000    AUTO      34        3409   \n",
       "1       NON DEFINI   1100009189-3409  2302.260010    AUTO      34        3409   \n",
       "2       NON DEFINI   1100009189-3409   500.000000    AUTO      34        3409   \n",
       "4       NON DEFINI   1100009189-3409  3069.679932    AUTO      34        3409   \n",
       "6       NON DEFINI   1100009189-3409   300.000000    AUTO      34        3409   \n",
       "...            ...               ...          ...     ...     ...         ...   \n",
       "899053  NON DEFINI  2212000007-32401     0.000000     DAA      23       32401   \n",
       "899054  NON DEFINI  2212000007-32401     0.000000     DAA      23       32401   \n",
       "899055  NON DEFINI  2212000007-32401     0.000000     DAA      23       32401   \n",
       "899056  NON DEFINI  2216000003-32408     0.000000     DAA      23       32408   \n",
       "899057  NON DEFINI  2216000003-32408     0.000000     DAA      23       32408   \n",
       "\n",
       "       Date_echeance  Mois  Reglement                   Produit  \\\n",
       "0         2022-03-29   3.0        0.00000     Automobile Flotte   \n",
       "1         2022-03-29   3.0        0.00000     Automobile Flotte   \n",
       "2         2022-03-29   3.0        0.00000     Automobile Flotte   \n",
       "4         2022-03-29   3.0        0.00000     Automobile Flotte   \n",
       "6         2022-03-29   3.0        0.00000     Automobile Flotte   \n",
       "...              ...   ...            ...                   ...   \n",
       "899053    2021-12-31   1.0      229.47623    Multirisque Bétail   \n",
       "899054    2021-12-31   1.0      229.47623    Multirisque Bétail   \n",
       "899055    2021-12-31   1.0      229.47623    Multirisque Bétail   \n",
       "899056    2021-12-31   1.0      229.47623  Multirisque Aquacole   \n",
       "899057    2021-12-31   1.0      229.47623  Multirisque Aquacole   \n",
       "\n",
       "       Date_declaration Date_reglement  \n",
       "0            2021-11-07     2021-12-31  \n",
       "1            2021-11-07     2021-12-31  \n",
       "2            2021-11-07     2021-12-31  \n",
       "4            2021-11-07     2021-12-31  \n",
       "6            2021-11-07     2021-12-31  \n",
       "...                 ...            ...  \n",
       "899053       2018-12-12     2018-12-31  \n",
       "899054       2018-12-16     2018-12-31  \n",
       "899055       2018-12-16     2018-12-31  \n",
       "899056       2018-10-06     2018-12-26  \n",
       "899057       2018-10-06     2018-12-26  \n",
       "\n",
       "[446789 rows x 16 columns]"
      ]
     },
     "execution_count": 41,
     "metadata": {},
     "output_type": "execute_result"
    }
   ],
   "source": [
    "df1"
   ]
  },
  {
   "cell_type": "code",
   "execution_count": 26,
   "id": "67e12993-d079-4a8d-9b82-4f9ab37c66c5",
   "metadata": {},
   "outputs": [
    {
     "name": "stdout",
     "output_type": "stream",
     "text": [
      "        Monthono Date_effet                ID        Prime Code_agence  \\\n",
      "0            0.0 2021-03-30   1100009189-3409  1700.000000        3409   \n",
      "1            0.0 2021-03-30   1100009189-3409  2302.260010        3409   \n",
      "2            0.0 2021-03-30   1100009189-3409   500.000000        3409   \n",
      "4            0.0 2021-03-30   1100009189-3409  3069.679932        3409   \n",
      "6            0.0 2021-03-30   1100009189-3409   300.000000        3409   \n",
      "...          ...        ...               ...          ...         ...   \n",
      "899053       0.0 2021-01-01  2212000007-32401     0.000000       32401   \n",
      "899054       0.0 2021-01-01  2212000007-32401     0.000000       32401   \n",
      "899055       0.0 2021-01-01  2212000007-32401     0.000000       32401   \n",
      "899056       0.0 2021-01-01  2216000003-32408     0.000000       32408   \n",
      "899057       0.0 2021-01-01  2216000003-32408     0.000000       32408   \n",
      "\n",
      "       Date_echeance  Mois  Reglement     Date_declaration Date_reglement  \n",
      "0         2022-03-29   3.0       0.000000       2021-11-07     2021-12-31  \n",
      "1         2022-03-29   3.0       0.000000       2021-11-07     2021-12-31  \n",
      "2         2022-03-29   3.0       0.000000       2021-11-07     2021-12-31  \n",
      "4         2022-03-29   3.0       0.000000       2021-11-07     2021-12-31  \n",
      "6         2022-03-29   3.0       0.000000       2021-11-07     2021-12-31  \n",
      "...              ...   ...            ...              ...            ...  \n",
      "899053    2021-12-31   1.0   10565.991036       2018-12-12     2018-12-31  \n",
      "899054    2021-12-31   1.0   10565.991036       2018-12-16     2018-12-31  \n",
      "899055    2021-12-31   1.0   10565.991036       2018-12-16     2018-12-31  \n",
      "899056    2021-12-31   1.0   10565.991036       2018-10-06     2018-12-26  \n",
      "899057    2021-12-31   1.0   10565.991036       2018-10-06     2018-12-26  \n",
      "\n",
      "[446789 rows x 10 columns]\n"
     ]
    }
   ],
   "source": [
    "df1 = df1.drop(['Client ', 'Classe', 'Filiale ','Branche', 'Code_DR', 'Produit'], axis=1)\n",
    "\n",
    "print(df1)"
   ]
  },
  {
   "cell_type": "code",
   "execution_count": 27,
   "id": "d4f5f3e0-47d6-454f-b5c5-958184064d35",
   "metadata": {},
   "outputs": [],
   "source": [
    "# Combine columns 'A' and 'B' by adding them\n",
    "df1['Payment'] = df1['Monthono'] + df1['Reglement    ']"
   ]
  },
  {
   "cell_type": "code",
   "execution_count": 28,
   "id": "0c3c0fef-3d11-4993-9ff2-7e7bce7ba500",
   "metadata": {},
   "outputs": [
    {
     "data": {
      "text/html": [
       "<div>\n",
       "<style scoped>\n",
       "    .dataframe tbody tr th:only-of-type {\n",
       "        vertical-align: middle;\n",
       "    }\n",
       "\n",
       "    .dataframe tbody tr th {\n",
       "        vertical-align: top;\n",
       "    }\n",
       "\n",
       "    .dataframe thead th {\n",
       "        text-align: right;\n",
       "    }\n",
       "</style>\n",
       "<table border=\"1\" class=\"dataframe\">\n",
       "  <thead>\n",
       "    <tr style=\"text-align: right;\">\n",
       "      <th></th>\n",
       "      <th>Date_effet</th>\n",
       "      <th>ID</th>\n",
       "      <th>Prime</th>\n",
       "      <th>Code_agence</th>\n",
       "      <th>Date_echeance</th>\n",
       "      <th>Mois</th>\n",
       "      <th>Date_declaration</th>\n",
       "      <th>Date_reglement</th>\n",
       "      <th>Payment</th>\n",
       "    </tr>\n",
       "  </thead>\n",
       "  <tbody>\n",
       "    <tr>\n",
       "      <th>0</th>\n",
       "      <td>2021-03-30</td>\n",
       "      <td>1100009189-3409</td>\n",
       "      <td>1700.000000</td>\n",
       "      <td>3409</td>\n",
       "      <td>2022-03-29</td>\n",
       "      <td>3.0</td>\n",
       "      <td>2021-11-07</td>\n",
       "      <td>2021-12-31</td>\n",
       "      <td>0.000000</td>\n",
       "    </tr>\n",
       "    <tr>\n",
       "      <th>1</th>\n",
       "      <td>2021-03-30</td>\n",
       "      <td>1100009189-3409</td>\n",
       "      <td>2302.260010</td>\n",
       "      <td>3409</td>\n",
       "      <td>2022-03-29</td>\n",
       "      <td>3.0</td>\n",
       "      <td>2021-11-07</td>\n",
       "      <td>2021-12-31</td>\n",
       "      <td>0.000000</td>\n",
       "    </tr>\n",
       "    <tr>\n",
       "      <th>2</th>\n",
       "      <td>2021-03-30</td>\n",
       "      <td>1100009189-3409</td>\n",
       "      <td>500.000000</td>\n",
       "      <td>3409</td>\n",
       "      <td>2022-03-29</td>\n",
       "      <td>3.0</td>\n",
       "      <td>2021-11-07</td>\n",
       "      <td>2021-12-31</td>\n",
       "      <td>0.000000</td>\n",
       "    </tr>\n",
       "    <tr>\n",
       "      <th>4</th>\n",
       "      <td>2021-03-30</td>\n",
       "      <td>1100009189-3409</td>\n",
       "      <td>3069.679932</td>\n",
       "      <td>3409</td>\n",
       "      <td>2022-03-29</td>\n",
       "      <td>3.0</td>\n",
       "      <td>2021-11-07</td>\n",
       "      <td>2021-12-31</td>\n",
       "      <td>0.000000</td>\n",
       "    </tr>\n",
       "    <tr>\n",
       "      <th>6</th>\n",
       "      <td>2021-03-30</td>\n",
       "      <td>1100009189-3409</td>\n",
       "      <td>300.000000</td>\n",
       "      <td>3409</td>\n",
       "      <td>2022-03-29</td>\n",
       "      <td>3.0</td>\n",
       "      <td>2021-11-07</td>\n",
       "      <td>2021-12-31</td>\n",
       "      <td>0.000000</td>\n",
       "    </tr>\n",
       "    <tr>\n",
       "      <th>...</th>\n",
       "      <td>...</td>\n",
       "      <td>...</td>\n",
       "      <td>...</td>\n",
       "      <td>...</td>\n",
       "      <td>...</td>\n",
       "      <td>...</td>\n",
       "      <td>...</td>\n",
       "      <td>...</td>\n",
       "      <td>...</td>\n",
       "    </tr>\n",
       "    <tr>\n",
       "      <th>899053</th>\n",
       "      <td>2021-01-01</td>\n",
       "      <td>2212000007-32401</td>\n",
       "      <td>0.000000</td>\n",
       "      <td>32401</td>\n",
       "      <td>2021-12-31</td>\n",
       "      <td>1.0</td>\n",
       "      <td>2018-12-12</td>\n",
       "      <td>2018-12-31</td>\n",
       "      <td>10565.991036</td>\n",
       "    </tr>\n",
       "    <tr>\n",
       "      <th>899054</th>\n",
       "      <td>2021-01-01</td>\n",
       "      <td>2212000007-32401</td>\n",
       "      <td>0.000000</td>\n",
       "      <td>32401</td>\n",
       "      <td>2021-12-31</td>\n",
       "      <td>1.0</td>\n",
       "      <td>2018-12-16</td>\n",
       "      <td>2018-12-31</td>\n",
       "      <td>10565.991036</td>\n",
       "    </tr>\n",
       "    <tr>\n",
       "      <th>899055</th>\n",
       "      <td>2021-01-01</td>\n",
       "      <td>2212000007-32401</td>\n",
       "      <td>0.000000</td>\n",
       "      <td>32401</td>\n",
       "      <td>2021-12-31</td>\n",
       "      <td>1.0</td>\n",
       "      <td>2018-12-16</td>\n",
       "      <td>2018-12-31</td>\n",
       "      <td>10565.991036</td>\n",
       "    </tr>\n",
       "    <tr>\n",
       "      <th>899056</th>\n",
       "      <td>2021-01-01</td>\n",
       "      <td>2216000003-32408</td>\n",
       "      <td>0.000000</td>\n",
       "      <td>32408</td>\n",
       "      <td>2021-12-31</td>\n",
       "      <td>1.0</td>\n",
       "      <td>2018-10-06</td>\n",
       "      <td>2018-12-26</td>\n",
       "      <td>10565.991036</td>\n",
       "    </tr>\n",
       "    <tr>\n",
       "      <th>899057</th>\n",
       "      <td>2021-01-01</td>\n",
       "      <td>2216000003-32408</td>\n",
       "      <td>0.000000</td>\n",
       "      <td>32408</td>\n",
       "      <td>2021-12-31</td>\n",
       "      <td>1.0</td>\n",
       "      <td>2018-10-06</td>\n",
       "      <td>2018-12-26</td>\n",
       "      <td>10565.991036</td>\n",
       "    </tr>\n",
       "  </tbody>\n",
       "</table>\n",
       "<p>446789 rows × 9 columns</p>\n",
       "</div>"
      ],
      "text/plain": [
       "       Date_effet                ID        Prime Code_agence Date_echeance  \\\n",
       "0      2021-03-30   1100009189-3409  1700.000000        3409    2022-03-29   \n",
       "1      2021-03-30   1100009189-3409  2302.260010        3409    2022-03-29   \n",
       "2      2021-03-30   1100009189-3409   500.000000        3409    2022-03-29   \n",
       "4      2021-03-30   1100009189-3409  3069.679932        3409    2022-03-29   \n",
       "6      2021-03-30   1100009189-3409   300.000000        3409    2022-03-29   \n",
       "...           ...               ...          ...         ...           ...   \n",
       "899053 2021-01-01  2212000007-32401     0.000000       32401    2021-12-31   \n",
       "899054 2021-01-01  2212000007-32401     0.000000       32401    2021-12-31   \n",
       "899055 2021-01-01  2212000007-32401     0.000000       32401    2021-12-31   \n",
       "899056 2021-01-01  2216000003-32408     0.000000       32408    2021-12-31   \n",
       "899057 2021-01-01  2216000003-32408     0.000000       32408    2021-12-31   \n",
       "\n",
       "        Mois Date_declaration Date_reglement       Payment  \n",
       "0        3.0       2021-11-07     2021-12-31      0.000000  \n",
       "1        3.0       2021-11-07     2021-12-31      0.000000  \n",
       "2        3.0       2021-11-07     2021-12-31      0.000000  \n",
       "4        3.0       2021-11-07     2021-12-31      0.000000  \n",
       "6        3.0       2021-11-07     2021-12-31      0.000000  \n",
       "...      ...              ...            ...           ...  \n",
       "899053   1.0       2018-12-12     2018-12-31  10565.991036  \n",
       "899054   1.0       2018-12-16     2018-12-31  10565.991036  \n",
       "899055   1.0       2018-12-16     2018-12-31  10565.991036  \n",
       "899056   1.0       2018-10-06     2018-12-26  10565.991036  \n",
       "899057   1.0       2018-10-06     2018-12-26  10565.991036  \n",
       "\n",
       "[446789 rows x 9 columns]"
      ]
     },
     "execution_count": 28,
     "metadata": {},
     "output_type": "execute_result"
    }
   ],
   "source": [
    "df1 = df1.drop(['Monthono','Reglement    '], axis=1)\n",
    "df1"
   ]
  },
  {
   "cell_type": "code",
   "execution_count": 29,
   "id": "75530d3d-f0e0-451c-8d7d-beda9a7d05e7",
   "metadata": {},
   "outputs": [
    {
     "data": {
      "text/html": [
       "<div>\n",
       "<style scoped>\n",
       "    .dataframe tbody tr th:only-of-type {\n",
       "        vertical-align: middle;\n",
       "    }\n",
       "\n",
       "    .dataframe tbody tr th {\n",
       "        vertical-align: top;\n",
       "    }\n",
       "\n",
       "    .dataframe thead th {\n",
       "        text-align: right;\n",
       "    }\n",
       "</style>\n",
       "<table border=\"1\" class=\"dataframe\">\n",
       "  <thead>\n",
       "    <tr style=\"text-align: right;\">\n",
       "      <th></th>\n",
       "      <th>Date_effet</th>\n",
       "      <th>ID</th>\n",
       "      <th>Prime</th>\n",
       "      <th>Code_agence</th>\n",
       "      <th>Date_echeance</th>\n",
       "      <th>Mois</th>\n",
       "      <th>Date_declaration</th>\n",
       "      <th>Date_reglement</th>\n",
       "      <th>Payment</th>\n",
       "      <th>satisfaction</th>\n",
       "    </tr>\n",
       "  </thead>\n",
       "  <tbody>\n",
       "    <tr>\n",
       "      <th>0</th>\n",
       "      <td>2021-03-30</td>\n",
       "      <td>1100009189-3409</td>\n",
       "      <td>1700.000000</td>\n",
       "      <td>3409</td>\n",
       "      <td>2022-03-29</td>\n",
       "      <td>3.0</td>\n",
       "      <td>2021-11-07</td>\n",
       "      <td>2021-12-31</td>\n",
       "      <td>0.000000</td>\n",
       "      <td>0</td>\n",
       "    </tr>\n",
       "    <tr>\n",
       "      <th>1</th>\n",
       "      <td>2021-03-30</td>\n",
       "      <td>1100009189-3409</td>\n",
       "      <td>2302.260010</td>\n",
       "      <td>3409</td>\n",
       "      <td>2022-03-29</td>\n",
       "      <td>3.0</td>\n",
       "      <td>2021-11-07</td>\n",
       "      <td>2021-12-31</td>\n",
       "      <td>0.000000</td>\n",
       "      <td>0</td>\n",
       "    </tr>\n",
       "    <tr>\n",
       "      <th>2</th>\n",
       "      <td>2021-03-30</td>\n",
       "      <td>1100009189-3409</td>\n",
       "      <td>500.000000</td>\n",
       "      <td>3409</td>\n",
       "      <td>2022-03-29</td>\n",
       "      <td>3.0</td>\n",
       "      <td>2021-11-07</td>\n",
       "      <td>2021-12-31</td>\n",
       "      <td>0.000000</td>\n",
       "      <td>0</td>\n",
       "    </tr>\n",
       "    <tr>\n",
       "      <th>4</th>\n",
       "      <td>2021-03-30</td>\n",
       "      <td>1100009189-3409</td>\n",
       "      <td>3069.679932</td>\n",
       "      <td>3409</td>\n",
       "      <td>2022-03-29</td>\n",
       "      <td>3.0</td>\n",
       "      <td>2021-11-07</td>\n",
       "      <td>2021-12-31</td>\n",
       "      <td>0.000000</td>\n",
       "      <td>0</td>\n",
       "    </tr>\n",
       "    <tr>\n",
       "      <th>6</th>\n",
       "      <td>2021-03-30</td>\n",
       "      <td>1100009189-3409</td>\n",
       "      <td>300.000000</td>\n",
       "      <td>3409</td>\n",
       "      <td>2022-03-29</td>\n",
       "      <td>3.0</td>\n",
       "      <td>2021-11-07</td>\n",
       "      <td>2021-12-31</td>\n",
       "      <td>0.000000</td>\n",
       "      <td>0</td>\n",
       "    </tr>\n",
       "    <tr>\n",
       "      <th>...</th>\n",
       "      <td>...</td>\n",
       "      <td>...</td>\n",
       "      <td>...</td>\n",
       "      <td>...</td>\n",
       "      <td>...</td>\n",
       "      <td>...</td>\n",
       "      <td>...</td>\n",
       "      <td>...</td>\n",
       "      <td>...</td>\n",
       "      <td>...</td>\n",
       "    </tr>\n",
       "    <tr>\n",
       "      <th>899053</th>\n",
       "      <td>2021-01-01</td>\n",
       "      <td>2212000007-32401</td>\n",
       "      <td>0.000000</td>\n",
       "      <td>32401</td>\n",
       "      <td>2021-12-31</td>\n",
       "      <td>1.0</td>\n",
       "      <td>2018-12-12</td>\n",
       "      <td>2018-12-31</td>\n",
       "      <td>10565.991036</td>\n",
       "      <td>1</td>\n",
       "    </tr>\n",
       "    <tr>\n",
       "      <th>899054</th>\n",
       "      <td>2021-01-01</td>\n",
       "      <td>2212000007-32401</td>\n",
       "      <td>0.000000</td>\n",
       "      <td>32401</td>\n",
       "      <td>2021-12-31</td>\n",
       "      <td>1.0</td>\n",
       "      <td>2018-12-16</td>\n",
       "      <td>2018-12-31</td>\n",
       "      <td>10565.991036</td>\n",
       "      <td>1</td>\n",
       "    </tr>\n",
       "    <tr>\n",
       "      <th>899055</th>\n",
       "      <td>2021-01-01</td>\n",
       "      <td>2212000007-32401</td>\n",
       "      <td>0.000000</td>\n",
       "      <td>32401</td>\n",
       "      <td>2021-12-31</td>\n",
       "      <td>1.0</td>\n",
       "      <td>2018-12-16</td>\n",
       "      <td>2018-12-31</td>\n",
       "      <td>10565.991036</td>\n",
       "      <td>1</td>\n",
       "    </tr>\n",
       "    <tr>\n",
       "      <th>899056</th>\n",
       "      <td>2021-01-01</td>\n",
       "      <td>2216000003-32408</td>\n",
       "      <td>0.000000</td>\n",
       "      <td>32408</td>\n",
       "      <td>2021-12-31</td>\n",
       "      <td>1.0</td>\n",
       "      <td>2018-10-06</td>\n",
       "      <td>2018-12-26</td>\n",
       "      <td>10565.991036</td>\n",
       "      <td>1</td>\n",
       "    </tr>\n",
       "    <tr>\n",
       "      <th>899057</th>\n",
       "      <td>2021-01-01</td>\n",
       "      <td>2216000003-32408</td>\n",
       "      <td>0.000000</td>\n",
       "      <td>32408</td>\n",
       "      <td>2021-12-31</td>\n",
       "      <td>1.0</td>\n",
       "      <td>2018-10-06</td>\n",
       "      <td>2018-12-26</td>\n",
       "      <td>10565.991036</td>\n",
       "      <td>1</td>\n",
       "    </tr>\n",
       "  </tbody>\n",
       "</table>\n",
       "<p>446789 rows × 10 columns</p>\n",
       "</div>"
      ],
      "text/plain": [
       "       Date_effet                ID        Prime Code_agence Date_echeance  \\\n",
       "0      2021-03-30   1100009189-3409  1700.000000        3409    2022-03-29   \n",
       "1      2021-03-30   1100009189-3409  2302.260010        3409    2022-03-29   \n",
       "2      2021-03-30   1100009189-3409   500.000000        3409    2022-03-29   \n",
       "4      2021-03-30   1100009189-3409  3069.679932        3409    2022-03-29   \n",
       "6      2021-03-30   1100009189-3409   300.000000        3409    2022-03-29   \n",
       "...           ...               ...          ...         ...           ...   \n",
       "899053 2021-01-01  2212000007-32401     0.000000       32401    2021-12-31   \n",
       "899054 2021-01-01  2212000007-32401     0.000000       32401    2021-12-31   \n",
       "899055 2021-01-01  2212000007-32401     0.000000       32401    2021-12-31   \n",
       "899056 2021-01-01  2216000003-32408     0.000000       32408    2021-12-31   \n",
       "899057 2021-01-01  2216000003-32408     0.000000       32408    2021-12-31   \n",
       "\n",
       "        Mois Date_declaration Date_reglement       Payment  satisfaction  \n",
       "0        3.0       2021-11-07     2021-12-31      0.000000             0  \n",
       "1        3.0       2021-11-07     2021-12-31      0.000000             0  \n",
       "2        3.0       2021-11-07     2021-12-31      0.000000             0  \n",
       "4        3.0       2021-11-07     2021-12-31      0.000000             0  \n",
       "6        3.0       2021-11-07     2021-12-31      0.000000             0  \n",
       "...      ...              ...            ...           ...           ...  \n",
       "899053   1.0       2018-12-12     2018-12-31  10565.991036             1  \n",
       "899054   1.0       2018-12-16     2018-12-31  10565.991036             1  \n",
       "899055   1.0       2018-12-16     2018-12-31  10565.991036             1  \n",
       "899056   1.0       2018-10-06     2018-12-26  10565.991036             1  \n",
       "899057   1.0       2018-10-06     2018-12-26  10565.991036             1  \n",
       "\n",
       "[446789 rows x 10 columns]"
      ]
     },
     "execution_count": 29,
     "metadata": {},
     "output_type": "execute_result"
    }
   ],
   "source": [
    "# Assuming df is your existing DataFrame with other variables\n",
    "# Create the satisfaction variable based on payment\n",
    "df1['satisfaction'] = (df1['Payment'] > 0).astype(int)\n",
    "df1"
   ]
  },
  {
   "cell_type": "code",
   "execution_count": 31,
   "id": "2e447698-722a-4590-a5af-608ff3ab5458",
   "metadata": {},
   "outputs": [],
   "source": [
    "# Group by ID and check if any satisfaction value within the group is 1\n",
    "grouped = df1.groupby('ID')['satisfaction'].transform('max')  # Get max satisfaction per group\n",
    "\n",
    "# Set satisfaction to 1 where the max satisfaction in the group is 1\n",
    "df1['satisfaction'] = grouped.apply(lambda x: 1 if x == 1 else 0)\n",
    "\n",
    "# Now df['satisfaction'] should have the desired values where satisfaction is 1 for all rows with the same ID if any has satisfaction = 1"
   ]
  },
  {
   "cell_type": "code",
   "execution_count": 32,
   "id": "d3b2aa35-77f7-420d-bd8d-c65a04ae765c",
   "metadata": {},
   "outputs": [
    {
     "data": {
      "text/html": [
       "<div>\n",
       "<style scoped>\n",
       "    .dataframe tbody tr th:only-of-type {\n",
       "        vertical-align: middle;\n",
       "    }\n",
       "\n",
       "    .dataframe tbody tr th {\n",
       "        vertical-align: top;\n",
       "    }\n",
       "\n",
       "    .dataframe thead th {\n",
       "        text-align: right;\n",
       "    }\n",
       "</style>\n",
       "<table border=\"1\" class=\"dataframe\">\n",
       "  <thead>\n",
       "    <tr style=\"text-align: right;\">\n",
       "      <th></th>\n",
       "      <th>Date_effet</th>\n",
       "      <th>ID</th>\n",
       "      <th>Prime</th>\n",
       "      <th>Code_agence</th>\n",
       "      <th>Date_echeance</th>\n",
       "      <th>Mois</th>\n",
       "      <th>Date_declaration</th>\n",
       "      <th>Date_reglement</th>\n",
       "      <th>Payment</th>\n",
       "      <th>satisfaction</th>\n",
       "    </tr>\n",
       "  </thead>\n",
       "  <tbody>\n",
       "    <tr>\n",
       "      <th>0</th>\n",
       "      <td>2021-03-30</td>\n",
       "      <td>1100009189-3409</td>\n",
       "      <td>1700.000000</td>\n",
       "      <td>3409</td>\n",
       "      <td>2022-03-29</td>\n",
       "      <td>3.0</td>\n",
       "      <td>2021-11-07</td>\n",
       "      <td>2021-12-31</td>\n",
       "      <td>0.000000</td>\n",
       "      <td>0</td>\n",
       "    </tr>\n",
       "    <tr>\n",
       "      <th>1</th>\n",
       "      <td>2021-03-30</td>\n",
       "      <td>1100009189-3409</td>\n",
       "      <td>2302.260010</td>\n",
       "      <td>3409</td>\n",
       "      <td>2022-03-29</td>\n",
       "      <td>3.0</td>\n",
       "      <td>2021-11-07</td>\n",
       "      <td>2021-12-31</td>\n",
       "      <td>0.000000</td>\n",
       "      <td>0</td>\n",
       "    </tr>\n",
       "    <tr>\n",
       "      <th>2</th>\n",
       "      <td>2021-03-30</td>\n",
       "      <td>1100009189-3409</td>\n",
       "      <td>500.000000</td>\n",
       "      <td>3409</td>\n",
       "      <td>2022-03-29</td>\n",
       "      <td>3.0</td>\n",
       "      <td>2021-11-07</td>\n",
       "      <td>2021-12-31</td>\n",
       "      <td>0.000000</td>\n",
       "      <td>0</td>\n",
       "    </tr>\n",
       "    <tr>\n",
       "      <th>4</th>\n",
       "      <td>2021-03-30</td>\n",
       "      <td>1100009189-3409</td>\n",
       "      <td>3069.679932</td>\n",
       "      <td>3409</td>\n",
       "      <td>2022-03-29</td>\n",
       "      <td>3.0</td>\n",
       "      <td>2021-11-07</td>\n",
       "      <td>2021-12-31</td>\n",
       "      <td>0.000000</td>\n",
       "      <td>0</td>\n",
       "    </tr>\n",
       "    <tr>\n",
       "      <th>6</th>\n",
       "      <td>2021-03-30</td>\n",
       "      <td>1100009189-3409</td>\n",
       "      <td>300.000000</td>\n",
       "      <td>3409</td>\n",
       "      <td>2022-03-29</td>\n",
       "      <td>3.0</td>\n",
       "      <td>2021-11-07</td>\n",
       "      <td>2021-12-31</td>\n",
       "      <td>0.000000</td>\n",
       "      <td>0</td>\n",
       "    </tr>\n",
       "    <tr>\n",
       "      <th>...</th>\n",
       "      <td>...</td>\n",
       "      <td>...</td>\n",
       "      <td>...</td>\n",
       "      <td>...</td>\n",
       "      <td>...</td>\n",
       "      <td>...</td>\n",
       "      <td>...</td>\n",
       "      <td>...</td>\n",
       "      <td>...</td>\n",
       "      <td>...</td>\n",
       "    </tr>\n",
       "    <tr>\n",
       "      <th>899053</th>\n",
       "      <td>2021-01-01</td>\n",
       "      <td>2212000007-32401</td>\n",
       "      <td>0.000000</td>\n",
       "      <td>32401</td>\n",
       "      <td>2021-12-31</td>\n",
       "      <td>1.0</td>\n",
       "      <td>2018-12-12</td>\n",
       "      <td>2018-12-31</td>\n",
       "      <td>10565.991036</td>\n",
       "      <td>1</td>\n",
       "    </tr>\n",
       "    <tr>\n",
       "      <th>899054</th>\n",
       "      <td>2021-01-01</td>\n",
       "      <td>2212000007-32401</td>\n",
       "      <td>0.000000</td>\n",
       "      <td>32401</td>\n",
       "      <td>2021-12-31</td>\n",
       "      <td>1.0</td>\n",
       "      <td>2018-12-16</td>\n",
       "      <td>2018-12-31</td>\n",
       "      <td>10565.991036</td>\n",
       "      <td>1</td>\n",
       "    </tr>\n",
       "    <tr>\n",
       "      <th>899055</th>\n",
       "      <td>2021-01-01</td>\n",
       "      <td>2212000007-32401</td>\n",
       "      <td>0.000000</td>\n",
       "      <td>32401</td>\n",
       "      <td>2021-12-31</td>\n",
       "      <td>1.0</td>\n",
       "      <td>2018-12-16</td>\n",
       "      <td>2018-12-31</td>\n",
       "      <td>10565.991036</td>\n",
       "      <td>1</td>\n",
       "    </tr>\n",
       "    <tr>\n",
       "      <th>899056</th>\n",
       "      <td>2021-01-01</td>\n",
       "      <td>2216000003-32408</td>\n",
       "      <td>0.000000</td>\n",
       "      <td>32408</td>\n",
       "      <td>2021-12-31</td>\n",
       "      <td>1.0</td>\n",
       "      <td>2018-10-06</td>\n",
       "      <td>2018-12-26</td>\n",
       "      <td>10565.991036</td>\n",
       "      <td>1</td>\n",
       "    </tr>\n",
       "    <tr>\n",
       "      <th>899057</th>\n",
       "      <td>2021-01-01</td>\n",
       "      <td>2216000003-32408</td>\n",
       "      <td>0.000000</td>\n",
       "      <td>32408</td>\n",
       "      <td>2021-12-31</td>\n",
       "      <td>1.0</td>\n",
       "      <td>2018-10-06</td>\n",
       "      <td>2018-12-26</td>\n",
       "      <td>10565.991036</td>\n",
       "      <td>1</td>\n",
       "    </tr>\n",
       "  </tbody>\n",
       "</table>\n",
       "<p>446789 rows × 10 columns</p>\n",
       "</div>"
      ],
      "text/plain": [
       "       Date_effet                ID        Prime Code_agence Date_echeance  \\\n",
       "0      2021-03-30   1100009189-3409  1700.000000        3409    2022-03-29   \n",
       "1      2021-03-30   1100009189-3409  2302.260010        3409    2022-03-29   \n",
       "2      2021-03-30   1100009189-3409   500.000000        3409    2022-03-29   \n",
       "4      2021-03-30   1100009189-3409  3069.679932        3409    2022-03-29   \n",
       "6      2021-03-30   1100009189-3409   300.000000        3409    2022-03-29   \n",
       "...           ...               ...          ...         ...           ...   \n",
       "899053 2021-01-01  2212000007-32401     0.000000       32401    2021-12-31   \n",
       "899054 2021-01-01  2212000007-32401     0.000000       32401    2021-12-31   \n",
       "899055 2021-01-01  2212000007-32401     0.000000       32401    2021-12-31   \n",
       "899056 2021-01-01  2216000003-32408     0.000000       32408    2021-12-31   \n",
       "899057 2021-01-01  2216000003-32408     0.000000       32408    2021-12-31   \n",
       "\n",
       "        Mois Date_declaration Date_reglement       Payment  satisfaction  \n",
       "0        3.0       2021-11-07     2021-12-31      0.000000             0  \n",
       "1        3.0       2021-11-07     2021-12-31      0.000000             0  \n",
       "2        3.0       2021-11-07     2021-12-31      0.000000             0  \n",
       "4        3.0       2021-11-07     2021-12-31      0.000000             0  \n",
       "6        3.0       2021-11-07     2021-12-31      0.000000             0  \n",
       "...      ...              ...            ...           ...           ...  \n",
       "899053   1.0       2018-12-12     2018-12-31  10565.991036             1  \n",
       "899054   1.0       2018-12-16     2018-12-31  10565.991036             1  \n",
       "899055   1.0       2018-12-16     2018-12-31  10565.991036             1  \n",
       "899056   1.0       2018-10-06     2018-12-26  10565.991036             1  \n",
       "899057   1.0       2018-10-06     2018-12-26  10565.991036             1  \n",
       "\n",
       "[446789 rows x 10 columns]"
      ]
     },
     "execution_count": 32,
     "metadata": {},
     "output_type": "execute_result"
    }
   ],
   "source": [
    "df1"
   ]
  },
  {
   "cell_type": "code",
   "execution_count": 56,
   "id": "904ed028-4571-4cfb-b48f-4bc16f613f3f",
   "metadata": {},
   "outputs": [
    {
     "name": "stdout",
     "output_type": "stream",
     "text": [
      "       Date_effet               ID         Prime Code_agence Date_echeance  \\\n",
      "0      2021-03-30  1100009189-3409   1700.000000        3409    2022-03-29   \n",
      "1      2021-03-30  1100009189-3409   2302.260010        3409    2022-03-29   \n",
      "2      2021-03-30  1100009189-3409    500.000000        3409    2022-03-29   \n",
      "4      2021-03-30  1100009189-3409   3069.679932        3409    2022-03-29   \n",
      "6      2021-03-30  1100009189-3409    300.000000        3409    2022-03-29   \n",
      "10     2021-03-30  1100009189-3409   1325.530029        3409    2022-03-29   \n",
      "18     2021-03-30  1100009189-3409   2858.050049        3409    2022-03-29   \n",
      "23     2021-03-30  1100009189-3409    750.000000        3409    2022-03-29   \n",
      "24     2021-03-30  1100009189-3409   3810.729980        3409    2022-03-29   \n",
      "32     2021-03-30  1100009189-3409    850.000000        3409    2022-03-29   \n",
      "34     2021-03-30  1100009189-3409   1767.369995        3409    2022-03-29   \n",
      "35     2021-03-30  1100009189-3409   1227.880005        3409    2022-03-29   \n",
      "37     2021-03-30  1100009189-3409    671.500000        3409    2022-03-29   \n",
      "736726 2022-03-30  1100009189-3409   1000.000000        3409    2023-03-29   \n",
      "736727 2022-03-30  1100009189-3409   3000.000000        3409    2023-03-29   \n",
      "736728 2022-03-30  1100009189-3409  13392.620000        3409    2023-03-29   \n",
      "736729 2022-03-30  1100009189-3409   2400.000000        3409    2023-03-29   \n",
      "736730 2022-03-30  1100009189-3409  19756.200000        3409    2023-03-29   \n",
      "867677 2018-03-30  1100009189-3409  13274.108232        3409    2019-03-29   \n",
      "\n",
      "        Mois Date_declaration Date_reglement  Payment  satisfaction  \n",
      "0        3.0       2021-11-07     2021-12-31      0.0             0  \n",
      "1        3.0       2021-11-07     2021-12-31      0.0             0  \n",
      "2        3.0       2021-11-07     2021-12-31      0.0             0  \n",
      "4        3.0       2021-11-07     2021-12-31      0.0             0  \n",
      "6        3.0       2021-11-07     2021-12-31      0.0             0  \n",
      "10       3.0       2021-11-07     2021-12-31      0.0             0  \n",
      "18       3.0       2021-11-07     2021-12-31      0.0             0  \n",
      "23       3.0       2021-11-07     2021-12-31      0.0             0  \n",
      "24       3.0       2021-11-07     2021-12-31      0.0             0  \n",
      "32       3.0       2021-11-07     2021-12-31      0.0             0  \n",
      "34       3.0       2021-11-07     2021-12-31      0.0             0  \n",
      "35       3.0       2021-11-07     2021-12-31      0.0             0  \n",
      "37       3.0       2021-11-07     2021-12-31      0.0             0  \n",
      "736726   3.0       2021-11-07     2022-12-31      0.0             0  \n",
      "736727   3.0       2021-11-07     2022-12-31      0.0             0  \n",
      "736728   3.0       2021-11-07     2022-12-31      0.0             0  \n",
      "736729   3.0       2021-11-07     2022-12-31      0.0             0  \n",
      "736730   3.0       2021-11-07     2022-12-31      0.0             0  \n",
      "867677   1.0       2021-11-07     2018-12-31      0.0             0  \n"
     ]
    }
   ],
   "source": [
    "example_id = '1100009189-3409'\n",
    "print(df1[df1['ID'] == example_id])"
   ]
  },
  {
   "cell_type": "code",
   "execution_count": 33,
   "id": "1f51f624-9730-43e4-b8af-3101e2a6dc1d",
   "metadata": {},
   "outputs": [
    {
     "name": "stdout",
     "output_type": "stream",
     "text": [
      "<class 'pandas.core.frame.DataFrame'>\n",
      "Index: 446789 entries, 0 to 899057\n",
      "Data columns (total 10 columns):\n",
      " #   Column            Non-Null Count   Dtype         \n",
      "---  ------            --------------   -----         \n",
      " 0   Date_effet        446789 non-null  datetime64[ns]\n",
      " 1   ID                446789 non-null  object        \n",
      " 2   Prime             446788 non-null  float64       \n",
      " 3   Code_agence       446789 non-null  object        \n",
      " 4   Date_echeance     446789 non-null  datetime64[ns]\n",
      " 5   Mois              446788 non-null  float64       \n",
      " 6   Date_declaration  446789 non-null  datetime64[ns]\n",
      " 7   Date_reglement    446789 non-null  datetime64[ns]\n",
      " 8   Payment           446789 non-null  float64       \n",
      " 9   satisfaction      446789 non-null  int64         \n",
      "dtypes: datetime64[ns](4), float64(3), int64(1), object(2)\n",
      "memory usage: 37.5+ MB\n"
     ]
    }
   ],
   "source": [
    "df1.info()"
   ]
  },
  {
   "cell_type": "code",
   "execution_count": 34,
   "id": "51e96e42-fa93-4fec-b1f6-5d6cb473b025",
   "metadata": {},
   "outputs": [
    {
     "name": "stdout",
     "output_type": "stream",
     "text": [
      "Index(['Date_effet', 'ID', 'Prime', 'Code_agence', 'Date_echeance', 'Mois',\n",
      "       'Date_declaration', 'Date_reglement', 'Payment', 'satisfaction'],\n",
      "      dtype='object')\n"
     ]
    }
   ],
   "source": [
    "print(df1.columns)"
   ]
  },
  {
   "cell_type": "code",
   "execution_count": 35,
   "id": "422310fa-c866-45d5-b2b8-cc3254da258d",
   "metadata": {},
   "outputs": [],
   "source": [
    "# Assuming 'datetime_columns' is a list of your datetime column names in df1\n",
    "datetime_columns = ['Date_effet', 'Date_echeance', 'Date_declaration', 'Date_reglement']\n",
    "\n",
    "# Convert each datetime column to integer representation (Unix timestamp in seconds)\n",
    "for col in datetime_columns:\n",
    "    df1[col + '_timestamp'] = df1[col].astype('int64') // 10**9\n",
    "df1 = df1.drop(['Date_effet', 'Date_echeance', 'Date_declaration', 'Date_reglement'], axis=1)    "
   ]
  },
  {
   "cell_type": "code",
   "execution_count": 36,
   "id": "4eda285c-411e-497a-ae75-36c229f38458",
   "metadata": {},
   "outputs": [
    {
     "name": "stdout",
     "output_type": "stream",
     "text": [
      "<class 'pandas.core.frame.DataFrame'>\n",
      "Index: 446789 entries, 0 to 899057\n",
      "Data columns (total 10 columns):\n",
      " #   Column                      Non-Null Count   Dtype  \n",
      "---  ------                      --------------   -----  \n",
      " 0   ID                          446789 non-null  object \n",
      " 1   Prime                       446788 non-null  float64\n",
      " 2   Code_agence                 446789 non-null  object \n",
      " 3   Mois                        446788 non-null  float64\n",
      " 4   Payment                     446789 non-null  float64\n",
      " 5   satisfaction                446789 non-null  int64  \n",
      " 6   Date_effet_timestamp        446789 non-null  int64  \n",
      " 7   Date_echeance_timestamp     446789 non-null  int64  \n",
      " 8   Date_declaration_timestamp  446789 non-null  int64  \n",
      " 9   Date_reglement_timestamp    446789 non-null  int64  \n",
      "dtypes: float64(3), int64(5), object(2)\n",
      "memory usage: 37.5+ MB\n"
     ]
    }
   ],
   "source": [
    "df1.info()"
   ]
  },
  {
   "cell_type": "code",
   "execution_count": 87,
   "id": "b000f190-f5ac-43d3-bed2-c7d3ea684daa",
   "metadata": {},
   "outputs": [
    {
     "data": {
      "text/html": [
       "<div>\n",
       "<style scoped>\n",
       "    .dataframe tbody tr th:only-of-type {\n",
       "        vertical-align: middle;\n",
       "    }\n",
       "\n",
       "    .dataframe tbody tr th {\n",
       "        vertical-align: top;\n",
       "    }\n",
       "\n",
       "    .dataframe thead th {\n",
       "        text-align: right;\n",
       "    }\n",
       "</style>\n",
       "<table border=\"1\" class=\"dataframe\">\n",
       "  <thead>\n",
       "    <tr style=\"text-align: right;\">\n",
       "      <th></th>\n",
       "      <th>ID</th>\n",
       "      <th>Prime</th>\n",
       "      <th>Code_agence</th>\n",
       "      <th>Mois</th>\n",
       "      <th>Payment</th>\n",
       "      <th>satisfaction</th>\n",
       "      <th>Date_effet_timestamp</th>\n",
       "      <th>Date_echeance_timestamp</th>\n",
       "      <th>Date_declaration_timestamp</th>\n",
       "      <th>Date_reglement_timestamp</th>\n",
       "    </tr>\n",
       "  </thead>\n",
       "  <tbody>\n",
       "    <tr>\n",
       "      <th>0</th>\n",
       "      <td>1100009189-3409</td>\n",
       "      <td>1700.0</td>\n",
       "      <td>3409</td>\n",
       "      <td>3.0</td>\n",
       "      <td>0.00000</td>\n",
       "      <td>0</td>\n",
       "      <td>1617062400</td>\n",
       "      <td>1648512000</td>\n",
       "      <td>1636243200</td>\n",
       "      <td>1640908800</td>\n",
       "    </tr>\n",
       "    <tr>\n",
       "      <th>1</th>\n",
       "      <td>1100009189-3409</td>\n",
       "      <td>2302.26001</td>\n",
       "      <td>3409</td>\n",
       "      <td>3.0</td>\n",
       "      <td>0.00000</td>\n",
       "      <td>0</td>\n",
       "      <td>1617062400</td>\n",
       "      <td>1648512000</td>\n",
       "      <td>1636243200</td>\n",
       "      <td>1640908800</td>\n",
       "    </tr>\n",
       "    <tr>\n",
       "      <th>2</th>\n",
       "      <td>1100009189-3409</td>\n",
       "      <td>500.0</td>\n",
       "      <td>3409</td>\n",
       "      <td>3.0</td>\n",
       "      <td>0.00000</td>\n",
       "      <td>0</td>\n",
       "      <td>1617062400</td>\n",
       "      <td>1648512000</td>\n",
       "      <td>1636243200</td>\n",
       "      <td>1640908800</td>\n",
       "    </tr>\n",
       "    <tr>\n",
       "      <th>4</th>\n",
       "      <td>1100009189-3409</td>\n",
       "      <td>3069.679932</td>\n",
       "      <td>3409</td>\n",
       "      <td>3.0</td>\n",
       "      <td>0.00000</td>\n",
       "      <td>0</td>\n",
       "      <td>1617062400</td>\n",
       "      <td>1648512000</td>\n",
       "      <td>1636243200</td>\n",
       "      <td>1640908800</td>\n",
       "    </tr>\n",
       "    <tr>\n",
       "      <th>6</th>\n",
       "      <td>1100009189-3409</td>\n",
       "      <td>300.0</td>\n",
       "      <td>3409</td>\n",
       "      <td>3.0</td>\n",
       "      <td>0.00000</td>\n",
       "      <td>0</td>\n",
       "      <td>1617062400</td>\n",
       "      <td>1648512000</td>\n",
       "      <td>1636243200</td>\n",
       "      <td>1640908800</td>\n",
       "    </tr>\n",
       "    <tr>\n",
       "      <th>...</th>\n",
       "      <td>...</td>\n",
       "      <td>...</td>\n",
       "      <td>...</td>\n",
       "      <td>...</td>\n",
       "      <td>...</td>\n",
       "      <td>...</td>\n",
       "      <td>...</td>\n",
       "      <td>...</td>\n",
       "      <td>...</td>\n",
       "      <td>...</td>\n",
       "    </tr>\n",
       "    <tr>\n",
       "      <th>899053</th>\n",
       "      <td>2212000007-32401</td>\n",
       "      <td>0.0</td>\n",
       "      <td>32401</td>\n",
       "      <td>1.0</td>\n",
       "      <td>229.47623</td>\n",
       "      <td>1</td>\n",
       "      <td>1609459200</td>\n",
       "      <td>1640908800</td>\n",
       "      <td>1544572800</td>\n",
       "      <td>1546214400</td>\n",
       "    </tr>\n",
       "    <tr>\n",
       "      <th>899054</th>\n",
       "      <td>2212000007-32401</td>\n",
       "      <td>0.0</td>\n",
       "      <td>32401</td>\n",
       "      <td>1.0</td>\n",
       "      <td>229.47623</td>\n",
       "      <td>1</td>\n",
       "      <td>1609459200</td>\n",
       "      <td>1640908800</td>\n",
       "      <td>1544918400</td>\n",
       "      <td>1546214400</td>\n",
       "    </tr>\n",
       "    <tr>\n",
       "      <th>899055</th>\n",
       "      <td>2212000007-32401</td>\n",
       "      <td>0.0</td>\n",
       "      <td>32401</td>\n",
       "      <td>1.0</td>\n",
       "      <td>229.47623</td>\n",
       "      <td>1</td>\n",
       "      <td>1609459200</td>\n",
       "      <td>1640908800</td>\n",
       "      <td>1544918400</td>\n",
       "      <td>1546214400</td>\n",
       "    </tr>\n",
       "    <tr>\n",
       "      <th>899056</th>\n",
       "      <td>2216000003-32408</td>\n",
       "      <td>0.0</td>\n",
       "      <td>32408</td>\n",
       "      <td>1.0</td>\n",
       "      <td>229.47623</td>\n",
       "      <td>1</td>\n",
       "      <td>1609459200</td>\n",
       "      <td>1640908800</td>\n",
       "      <td>1538784000</td>\n",
       "      <td>1545782400</td>\n",
       "    </tr>\n",
       "    <tr>\n",
       "      <th>899057</th>\n",
       "      <td>2216000003-32408</td>\n",
       "      <td>0.0</td>\n",
       "      <td>32408</td>\n",
       "      <td>1.0</td>\n",
       "      <td>229.47623</td>\n",
       "      <td>1</td>\n",
       "      <td>1609459200</td>\n",
       "      <td>1640908800</td>\n",
       "      <td>1538784000</td>\n",
       "      <td>1545782400</td>\n",
       "    </tr>\n",
       "  </tbody>\n",
       "</table>\n",
       "<p>446789 rows × 10 columns</p>\n",
       "</div>"
      ],
      "text/plain": [
       "                      ID        Prime Code_agence Mois    Payment  \\\n",
       "0        1100009189-3409       1700.0        3409  3.0    0.00000   \n",
       "1        1100009189-3409   2302.26001        3409  3.0    0.00000   \n",
       "2        1100009189-3409        500.0        3409  3.0    0.00000   \n",
       "4        1100009189-3409  3069.679932        3409  3.0    0.00000   \n",
       "6        1100009189-3409        300.0        3409  3.0    0.00000   \n",
       "...                  ...          ...         ...  ...        ...   \n",
       "899053  2212000007-32401          0.0       32401  1.0  229.47623   \n",
       "899054  2212000007-32401          0.0       32401  1.0  229.47623   \n",
       "899055  2212000007-32401          0.0       32401  1.0  229.47623   \n",
       "899056  2216000003-32408          0.0       32408  1.0  229.47623   \n",
       "899057  2216000003-32408          0.0       32408  1.0  229.47623   \n",
       "\n",
       "        satisfaction  Date_effet_timestamp  Date_echeance_timestamp  \\\n",
       "0                  0            1617062400               1648512000   \n",
       "1                  0            1617062400               1648512000   \n",
       "2                  0            1617062400               1648512000   \n",
       "4                  0            1617062400               1648512000   \n",
       "6                  0            1617062400               1648512000   \n",
       "...              ...                   ...                      ...   \n",
       "899053             1            1609459200               1640908800   \n",
       "899054             1            1609459200               1640908800   \n",
       "899055             1            1609459200               1640908800   \n",
       "899056             1            1609459200               1640908800   \n",
       "899057             1            1609459200               1640908800   \n",
       "\n",
       "        Date_declaration_timestamp  Date_reglement_timestamp  \n",
       "0                       1636243200                1640908800  \n",
       "1                       1636243200                1640908800  \n",
       "2                       1636243200                1640908800  \n",
       "4                       1636243200                1640908800  \n",
       "6                       1636243200                1640908800  \n",
       "...                            ...                       ...  \n",
       "899053                  1544572800                1546214400  \n",
       "899054                  1544918400                1546214400  \n",
       "899055                  1544918400                1546214400  \n",
       "899056                  1538784000                1545782400  \n",
       "899057                  1538784000                1545782400  \n",
       "\n",
       "[446789 rows x 10 columns]"
      ]
     },
     "execution_count": 87,
     "metadata": {},
     "output_type": "execute_result"
    }
   ],
   "source": [
    "df1"
   ]
  },
  {
   "cell_type": "code",
   "execution_count": 37,
   "id": "c4dfd649-1796-4bab-8098-34861516012f",
   "metadata": {},
   "outputs": [],
   "source": [
    "# Convert the 'ID' column to integers by removing hyphens\n",
    "df1['ID'] = df1['ID'].apply(lambda x: int(x.replace('-', '')))"
   ]
  },
  {
   "cell_type": "code",
   "execution_count": 38,
   "id": "cd0d61c5-c819-4ada-9c55-e00068e14eec",
   "metadata": {},
   "outputs": [],
   "source": [
    "df1['Mois'] = pd.to_numeric(df1['Mois'], errors='coerce')\n",
    "df1['Prime'] = pd.to_numeric(df1['Prime'], errors='coerce')\n",
    "df1['Code_agence'] = pd.to_numeric(df1['Code_agence'], errors='coerce')"
   ]
  },
  {
   "cell_type": "code",
   "execution_count": 39,
   "id": "15f0327c-8685-4f05-9470-b5a35cdd2b1d",
   "metadata": {},
   "outputs": [
    {
     "name": "stdout",
     "output_type": "stream",
     "text": [
      "<class 'pandas.core.frame.DataFrame'>\n",
      "Index: 446789 entries, 0 to 899057\n",
      "Data columns (total 10 columns):\n",
      " #   Column                      Non-Null Count   Dtype  \n",
      "---  ------                      --------------   -----  \n",
      " 0   ID                          446789 non-null  int64  \n",
      " 1   Prime                       446788 non-null  float64\n",
      " 2   Code_agence                 446788 non-null  float64\n",
      " 3   Mois                        446788 non-null  float64\n",
      " 4   Payment                     446789 non-null  float64\n",
      " 5   satisfaction                446789 non-null  int64  \n",
      " 6   Date_effet_timestamp        446789 non-null  int64  \n",
      " 7   Date_echeance_timestamp     446789 non-null  int64  \n",
      " 8   Date_declaration_timestamp  446789 non-null  int64  \n",
      " 9   Date_reglement_timestamp    446789 non-null  int64  \n",
      "dtypes: float64(4), int64(6)\n",
      "memory usage: 37.5 MB\n"
     ]
    }
   ],
   "source": [
    "df1.info()"
   ]
  },
  {
   "cell_type": "markdown",
   "id": "3e2117f3-04bb-4c16-98f1-776e820b5921",
   "metadata": {},
   "source": [
    "MODELISATION : "
   ]
  },
  {
   "cell_type": "code",
   "execution_count": 138,
   "id": "937f9132-2acc-41b3-be45-c4df7eb925f0",
   "metadata": {},
   "outputs": [
    {
     "name": "stdout",
     "output_type": "stream",
     "text": [
      "Index(['ID', 'Prime', 'Code_agence', 'Mois', 'Payment', 'satisfaction',\n",
      "       'Date_effet_timestamp', 'Date_echeance_timestamp',\n",
      "       'Date_declaration_timestamp', 'Date_reglement_timestamp'],\n",
      "      dtype='object')\n"
     ]
    }
   ],
   "source": [
    "# Print all column names in your DataFrame\n",
    "print(df1.columns)"
   ]
  },
  {
   "cell_type": "code",
   "execution_count": 40,
   "id": "4c066a5b-bfa1-4560-98d4-3ab57066429f",
   "metadata": {},
   "outputs": [],
   "source": [
    "x= df1.drop('satisfaction', axis=1)\n",
    "y= df1['satisfaction']"
   ]
  },
  {
   "cell_type": "code",
   "execution_count": 41,
   "id": "e1bcba7c-6280-4e71-a335-cd1e6d48bd09",
   "metadata": {},
   "outputs": [],
   "source": [
    "from sklearn.compose import ColumnTransformer\n",
    "from sklearn.preprocessing import MinMaxScaler\n",
    "from sklearn.model_selection import train_test_split\n",
    "from tensorflow.keras.models import Sequential\n",
    "from tensorflow.keras.layers import Dense\n",
    "from keras.optimizers import Adam\n",
    "import warnings\n",
    "warnings.filterwarnings(\"ignore\")"
   ]
  },
  {
   "cell_type": "markdown",
   "id": "07a330cf-ad28-4688-bcca-b8bd477035c4",
   "metadata": {},
   "source": [
    "splitting the data : "
   ]
  },
  {
   "cell_type": "code",
   "execution_count": 42,
   "id": "04692ea1-589e-495e-8d81-b6574f14ddbc",
   "metadata": {},
   "outputs": [],
   "source": [
    "X_train, X_test, y_train, y_test = train_test_split(x, y, test_size=0.3, random_state=0)"
   ]
  },
  {
   "cell_type": "markdown",
   "id": "41b27a9a-d40e-447e-92a2-946b3bc0df50",
   "metadata": {},
   "source": [
    "ANN MODEL : "
   ]
  },
  {
   "cell_type": "code",
   "execution_count": 43,
   "id": "43edbc01-5b9a-4bc0-b371-4c95d573a263",
   "metadata": {},
   "outputs": [],
   "source": [
    "model=Sequential()"
   ]
  },
  {
   "cell_type": "code",
   "execution_count": 44,
   "id": "412a5115-6117-47e7-a937-a530f70d04ab",
   "metadata": {},
   "outputs": [
    {
     "data": {
      "text/html": [
       "<pre style=\"white-space:pre;overflow-x:auto;line-height:normal;font-family:Menlo,'DejaVu Sans Mono',consolas,'Courier New',monospace\"><span style=\"font-weight: bold\">Model: \"sequential\"</span>\n",
       "</pre>\n"
      ],
      "text/plain": [
       "\u001b[1mModel: \"sequential\"\u001b[0m\n"
      ]
     },
     "metadata": {},
     "output_type": "display_data"
    },
    {
     "data": {
      "text/html": [
       "<pre style=\"white-space:pre;overflow-x:auto;line-height:normal;font-family:Menlo,'DejaVu Sans Mono',consolas,'Courier New',monospace\">┏━━━━━━━━━━━━━━━━━━━━━━━━━━━━━━━━━━━━━━┳━━━━━━━━━━━━━━━━━━━━━━━━━━━━━┳━━━━━━━━━━━━━━━━━┓\n",
       "┃<span style=\"font-weight: bold\"> Layer (type)                         </span>┃<span style=\"font-weight: bold\"> Output Shape                </span>┃<span style=\"font-weight: bold\">         Param # </span>┃\n",
       "┡━━━━━━━━━━━━━━━━━━━━━━━━━━━━━━━━━━━━━━╇━━━━━━━━━━━━━━━━━━━━━━━━━━━━━╇━━━━━━━━━━━━━━━━━┩\n",
       "│ dense (<span style=\"color: #0087ff; text-decoration-color: #0087ff\">Dense</span>)                        │ (<span style=\"color: #00d7ff; text-decoration-color: #00d7ff\">None</span>, <span style=\"color: #00af00; text-decoration-color: #00af00\">10</span>)                  │             <span style=\"color: #00af00; text-decoration-color: #00af00\">100</span> │\n",
       "├──────────────────────────────────────┼─────────────────────────────┼─────────────────┤\n",
       "│ dense_1 (<span style=\"color: #0087ff; text-decoration-color: #0087ff\">Dense</span>)                      │ (<span style=\"color: #00d7ff; text-decoration-color: #00d7ff\">None</span>, <span style=\"color: #00af00; text-decoration-color: #00af00\">10</span>)                  │             <span style=\"color: #00af00; text-decoration-color: #00af00\">110</span> │\n",
       "├──────────────────────────────────────┼─────────────────────────────┼─────────────────┤\n",
       "│ dense_2 (<span style=\"color: #0087ff; text-decoration-color: #0087ff\">Dense</span>)                      │ (<span style=\"color: #00d7ff; text-decoration-color: #00d7ff\">None</span>, <span style=\"color: #00af00; text-decoration-color: #00af00\">10</span>)                  │             <span style=\"color: #00af00; text-decoration-color: #00af00\">110</span> │\n",
       "├──────────────────────────────────────┼─────────────────────────────┼─────────────────┤\n",
       "│ dense_3 (<span style=\"color: #0087ff; text-decoration-color: #0087ff\">Dense</span>)                      │ (<span style=\"color: #00d7ff; text-decoration-color: #00d7ff\">None</span>, <span style=\"color: #00af00; text-decoration-color: #00af00\">10</span>)                  │             <span style=\"color: #00af00; text-decoration-color: #00af00\">110</span> │\n",
       "├──────────────────────────────────────┼─────────────────────────────┼─────────────────┤\n",
       "│ dense_4 (<span style=\"color: #0087ff; text-decoration-color: #0087ff\">Dense</span>)                      │ (<span style=\"color: #00d7ff; text-decoration-color: #00d7ff\">None</span>, <span style=\"color: #00af00; text-decoration-color: #00af00\">10</span>)                  │             <span style=\"color: #00af00; text-decoration-color: #00af00\">110</span> │\n",
       "├──────────────────────────────────────┼─────────────────────────────┼─────────────────┤\n",
       "│ dense_5 (<span style=\"color: #0087ff; text-decoration-color: #0087ff\">Dense</span>)                      │ (<span style=\"color: #00d7ff; text-decoration-color: #00d7ff\">None</span>, <span style=\"color: #00af00; text-decoration-color: #00af00\">10</span>)                  │             <span style=\"color: #00af00; text-decoration-color: #00af00\">110</span> │\n",
       "├──────────────────────────────────────┼─────────────────────────────┼─────────────────┤\n",
       "│ dense_6 (<span style=\"color: #0087ff; text-decoration-color: #0087ff\">Dense</span>)                      │ (<span style=\"color: #00d7ff; text-decoration-color: #00d7ff\">None</span>, <span style=\"color: #00af00; text-decoration-color: #00af00\">1</span>)                   │              <span style=\"color: #00af00; text-decoration-color: #00af00\">11</span> │\n",
       "└──────────────────────────────────────┴─────────────────────────────┴─────────────────┘\n",
       "</pre>\n"
      ],
      "text/plain": [
       "┏━━━━━━━━━━━━━━━━━━━━━━━━━━━━━━━━━━━━━━┳━━━━━━━━━━━━━━━━━━━━━━━━━━━━━┳━━━━━━━━━━━━━━━━━┓\n",
       "┃\u001b[1m \u001b[0m\u001b[1mLayer (type)                        \u001b[0m\u001b[1m \u001b[0m┃\u001b[1m \u001b[0m\u001b[1mOutput Shape               \u001b[0m\u001b[1m \u001b[0m┃\u001b[1m \u001b[0m\u001b[1m        Param #\u001b[0m\u001b[1m \u001b[0m┃\n",
       "┡━━━━━━━━━━━━━━━━━━━━━━━━━━━━━━━━━━━━━━╇━━━━━━━━━━━━━━━━━━━━━━━━━━━━━╇━━━━━━━━━━━━━━━━━┩\n",
       "│ dense (\u001b[38;5;33mDense\u001b[0m)                        │ (\u001b[38;5;45mNone\u001b[0m, \u001b[38;5;34m10\u001b[0m)                  │             \u001b[38;5;34m100\u001b[0m │\n",
       "├──────────────────────────────────────┼─────────────────────────────┼─────────────────┤\n",
       "│ dense_1 (\u001b[38;5;33mDense\u001b[0m)                      │ (\u001b[38;5;45mNone\u001b[0m, \u001b[38;5;34m10\u001b[0m)                  │             \u001b[38;5;34m110\u001b[0m │\n",
       "├──────────────────────────────────────┼─────────────────────────────┼─────────────────┤\n",
       "│ dense_2 (\u001b[38;5;33mDense\u001b[0m)                      │ (\u001b[38;5;45mNone\u001b[0m, \u001b[38;5;34m10\u001b[0m)                  │             \u001b[38;5;34m110\u001b[0m │\n",
       "├──────────────────────────────────────┼─────────────────────────────┼─────────────────┤\n",
       "│ dense_3 (\u001b[38;5;33mDense\u001b[0m)                      │ (\u001b[38;5;45mNone\u001b[0m, \u001b[38;5;34m10\u001b[0m)                  │             \u001b[38;5;34m110\u001b[0m │\n",
       "├──────────────────────────────────────┼─────────────────────────────┼─────────────────┤\n",
       "│ dense_4 (\u001b[38;5;33mDense\u001b[0m)                      │ (\u001b[38;5;45mNone\u001b[0m, \u001b[38;5;34m10\u001b[0m)                  │             \u001b[38;5;34m110\u001b[0m │\n",
       "├──────────────────────────────────────┼─────────────────────────────┼─────────────────┤\n",
       "│ dense_5 (\u001b[38;5;33mDense\u001b[0m)                      │ (\u001b[38;5;45mNone\u001b[0m, \u001b[38;5;34m10\u001b[0m)                  │             \u001b[38;5;34m110\u001b[0m │\n",
       "├──────────────────────────────────────┼─────────────────────────────┼─────────────────┤\n",
       "│ dense_6 (\u001b[38;5;33mDense\u001b[0m)                      │ (\u001b[38;5;45mNone\u001b[0m, \u001b[38;5;34m1\u001b[0m)                   │              \u001b[38;5;34m11\u001b[0m │\n",
       "└──────────────────────────────────────┴─────────────────────────────┴─────────────────┘\n"
      ]
     },
     "metadata": {},
     "output_type": "display_data"
    },
    {
     "data": {
      "text/html": [
       "<pre style=\"white-space:pre;overflow-x:auto;line-height:normal;font-family:Menlo,'DejaVu Sans Mono',consolas,'Courier New',monospace\"><span style=\"font-weight: bold\"> Total params: </span><span style=\"color: #00af00; text-decoration-color: #00af00\">661</span> (2.58 KB)\n",
       "</pre>\n"
      ],
      "text/plain": [
       "\u001b[1m Total params: \u001b[0m\u001b[38;5;34m661\u001b[0m (2.58 KB)\n"
      ]
     },
     "metadata": {},
     "output_type": "display_data"
    },
    {
     "data": {
      "text/html": [
       "<pre style=\"white-space:pre;overflow-x:auto;line-height:normal;font-family:Menlo,'DejaVu Sans Mono',consolas,'Courier New',monospace\"><span style=\"font-weight: bold\"> Trainable params: </span><span style=\"color: #00af00; text-decoration-color: #00af00\">661</span> (2.58 KB)\n",
       "</pre>\n"
      ],
      "text/plain": [
       "\u001b[1m Trainable params: \u001b[0m\u001b[38;5;34m661\u001b[0m (2.58 KB)\n"
      ]
     },
     "metadata": {},
     "output_type": "display_data"
    },
    {
     "data": {
      "text/html": [
       "<pre style=\"white-space:pre;overflow-x:auto;line-height:normal;font-family:Menlo,'DejaVu Sans Mono',consolas,'Courier New',monospace\"><span style=\"font-weight: bold\"> Non-trainable params: </span><span style=\"color: #00af00; text-decoration-color: #00af00\">0</span> (0.00 B)\n",
       "</pre>\n"
      ],
      "text/plain": [
       "\u001b[1m Non-trainable params: \u001b[0m\u001b[38;5;34m0\u001b[0m (0.00 B)\n"
      ]
     },
     "metadata": {},
     "output_type": "display_data"
    }
   ],
   "source": [
    "model.add(Dense(10,activation= \"relu\",input_dim=9))\n",
    "model.add(Dense(10,activation= \"relu\"))\n",
    "model.add(Dense(10,activation= \"relu\"))\n",
    "model.add(Dense(10,activation= \"relu\"))\n",
    "model.add(Dense(10,activation= \"relu\"))\n",
    "model.add(Dense(10,activation= \"relu\"))\n",
    "model.add(Dense(1,activation= \"sigmoid\"))\n",
    "\n",
    "model.compile(optimizer= \"adam\",loss=\"binary_crossentropy\", metrics=['accuracy'])\n",
    "model.summary()"
   ]
  },
  {
   "cell_type": "code",
   "execution_count": 60,
   "id": "8f117778-fb94-4eed-baf7-8146c92aefcb",
   "metadata": {},
   "outputs": [
    {
     "name": "stdout",
     "output_type": "stream",
     "text": [
      "Epoch 1/10\n",
      "\u001b[1m6842/6842\u001b[0m \u001b[32m━━━━━━━━━━━━━━━━━━━━\u001b[0m\u001b[37m\u001b[0m \u001b[1m22s\u001b[0m 3ms/step - accuracy: 0.6539 - loss: 0.6450 - val_accuracy: 0.6514 - val_loss: 0.6466\n",
      "Epoch 2/10\n",
      "\u001b[1m6842/6842\u001b[0m \u001b[32m━━━━━━━━━━━━━━━━━━━━\u001b[0m\u001b[37m\u001b[0m \u001b[1m20s\u001b[0m 3ms/step - accuracy: 0.6524 - loss: 0.6460 - val_accuracy: 0.6514 - val_loss: 0.6468\n",
      "Epoch 3/10\n",
      "\u001b[1m6842/6842\u001b[0m \u001b[32m━━━━━━━━━━━━━━━━━━━━\u001b[0m\u001b[37m\u001b[0m \u001b[1m20s\u001b[0m 3ms/step - accuracy: 0.6532 - loss: 0.6455 - val_accuracy: 0.6514 - val_loss: 0.6466\n",
      "Epoch 4/10\n",
      "\u001b[1m6842/6842\u001b[0m \u001b[32m━━━━━━━━━━━━━━━━━━━━\u001b[0m\u001b[37m\u001b[0m \u001b[1m22s\u001b[0m 3ms/step - accuracy: 0.6538 - loss: 0.6451 - val_accuracy: 0.6514 - val_loss: 0.6466\n",
      "Epoch 5/10\n",
      "\u001b[1m6842/6842\u001b[0m \u001b[32m━━━━━━━━━━━━━━━━━━━━\u001b[0m\u001b[37m\u001b[0m \u001b[1m20s\u001b[0m 3ms/step - accuracy: 0.6532 - loss: 0.6455 - val_accuracy: 0.6514 - val_loss: 0.6467\n",
      "Epoch 6/10\n",
      "\u001b[1m6842/6842\u001b[0m \u001b[32m━━━━━━━━━━━━━━━━━━━━\u001b[0m\u001b[37m\u001b[0m \u001b[1m20s\u001b[0m 3ms/step - accuracy: 0.6529 - loss: 0.6457 - val_accuracy: 0.6514 - val_loss: 0.6466\n",
      "Epoch 7/10\n",
      "\u001b[1m6842/6842\u001b[0m \u001b[32m━━━━━━━━━━━━━━━━━━━━\u001b[0m\u001b[37m\u001b[0m \u001b[1m20s\u001b[0m 3ms/step - accuracy: 0.6534 - loss: 0.6454 - val_accuracy: 0.6514 - val_loss: 0.6466\n",
      "Epoch 8/10\n",
      "\u001b[1m6842/6842\u001b[0m \u001b[32m━━━━━━━━━━━━━━━━━━━━\u001b[0m\u001b[37m\u001b[0m \u001b[1m20s\u001b[0m 3ms/step - accuracy: 0.6522 - loss: 0.6461 - val_accuracy: 0.6514 - val_loss: 0.6466\n",
      "Epoch 9/10\n",
      "\u001b[1m6842/6842\u001b[0m \u001b[32m━━━━━━━━━━━━━━━━━━━━\u001b[0m\u001b[37m\u001b[0m \u001b[1m20s\u001b[0m 3ms/step - accuracy: 0.6513 - loss: 0.6467 - val_accuracy: 0.6514 - val_loss: 0.6466\n",
      "Epoch 10/10\n",
      "\u001b[1m6842/6842\u001b[0m \u001b[32m━━━━━━━━━━━━━━━━━━━━\u001b[0m\u001b[37m\u001b[0m \u001b[1m21s\u001b[0m 3ms/step - accuracy: 0.6528 - loss: 0.6458 - val_accuracy: 0.6514 - val_loss: 0.6466\n"
     ]
    }
   ],
   "source": [
    "history= model.fit(X_train,y_train,epochs=10,validation_split=0.3)"
   ]
  },
  {
   "cell_type": "code",
   "execution_count": 61,
   "id": "b48f4809-9e05-4541-99c2-10829e916c1f",
   "metadata": {},
   "outputs": [
    {
     "data": {
      "image/png": "[encoded data removed]",
      "text/plain": [
       "<Figure size 2000x800 with 1 Axes>"
      ]
     },
     "metadata": {},
     "output_type": "display_data"
    }
   ],
   "source": [
    "tr_loss = history.history['loss']\n",
    "val_loss = history.history['val_loss']\n",
    "index_loss = np.argmin(val_loss)\n",
    "val_lowest = val_loss[index_loss]\n",
    "\n",
    "Epochs = [i+1 for i in range(len(tr_loss))]\n",
    "loss_label = f'best epoch= {str(index_loss + 1)}'\n",
    "plt.figure(figsize= (20, 8))\n",
    "plt.style.use('fivethirtyeight')\n",
    "\n",
    "plt.plot(Epochs, tr_loss, 'r', label= 'Training loss')\n",
    "plt.plot(Epochs, val_loss, 'g', label= 'Validation loss')\n",
    "plt.scatter(index_loss + 1, val_lowest, s= 150, c= 'blue', label= loss_label)\n",
    "plt.title('Training and Validation Loss')\n",
    "plt.xlabel('Epochs')\n",
    "plt.ylabel('Loss')\n",
    "plt.legend()\n",
    "\n",
    "plt.tight_layout\n",
    "plt.show()"
   ]
  },
  {
   "cell_type": "code",
   "execution_count": 62,
   "id": "2047bea1-8c64-4dca-9db9-c9d961b17521",
   "metadata": {},
   "outputs": [
    {
     "name": "stdout",
     "output_type": "stream",
     "text": [
      "\u001b[1m4189/4189\u001b[0m \u001b[32m━━━━━━━━━━━━━━━━━━━━\u001b[0m\u001b[37m\u001b[0m \u001b[1m7s\u001b[0m 2ms/step\n"
     ]
    }
   ],
   "source": [
    "y_pred=model.predict(X_test)\n",
    "y_pred=(y_pred>0.5)"
   ]
  },
  {
   "cell_type": "code",
   "execution_count": 63,
   "id": "92c234de-072f-471e-b418-81d22de12d11",
   "metadata": {},
   "outputs": [
    {
     "name": "stdout",
     "output_type": "stream",
     "text": [
      "R2 Score= -0.5247244309456367\n"
     ]
    }
   ],
   "source": [
    "from sklearn.metrics import r2_score,accuracy_score\n",
    "\n",
    "R2 = r2_score(y_test, y_pred)\n",
    "print(\"R2 Score=\",R2 )"
   ]
  },
  {
   "cell_type": "markdown",
   "id": "cda15003-92e4-47d9-82a9-85c2dbdfc571",
   "metadata": {},
   "source": [
    " # negative R2 !!!!"
   ]
  },
  {
   "cell_type": "code",
   "execution_count": 64,
   "id": "76e3ee97-222f-4d8d-8c29-68fca4fc3878",
   "metadata": {},
   "outputs": [],
   "source": [
    "from sklearn.metrics import confusion_matrix"
   ]
  },
  {
   "cell_type": "code",
   "execution_count": 65,
   "id": "3388309f-e77c-4e30-bc7f-ec3047a2b99d",
   "metadata": {},
   "outputs": [
    {
     "name": "stdout",
     "output_type": "stream",
     "text": [
      "Accurcy= 0.6558562188052552\n"
     ]
    }
   ],
   "source": [
    "Accurcy = accuracy_score(y_test, y_pred)\n",
    "print(\"Accurcy=\",Accurcy )"
   ]
  },
  {
   "cell_type": "markdown",
   "id": "7b8d5d82-b13c-4145-b5b2-bbf6be7f4faa",
   "metadata": {},
   "source": [
    "##### The model is accurate overall, with 65.58% of predictions being correct"
   ]
  },
  {
   "cell_type": "code",
   "execution_count": 66,
   "id": "35ee3ded-babf-438f-af8f-3460d51631d4",
   "metadata": {},
   "outputs": [],
   "source": [
    "from sklearn.metrics import classification_report, confusion_matrix"
   ]
  },
  {
   "cell_type": "code",
   "execution_count": 67,
   "id": "e100a6d3-3e39-4e32-b948-3da97df26252",
   "metadata": {},
   "outputs": [
    {
     "name": "stdout",
     "output_type": "stream",
     "text": [
      "satisfaction\n",
      "1    291865\n",
      "0    154924\n",
      "Name: count, dtype: int64\n"
     ]
    }
   ],
   "source": [
    "# Get value counts of the 'category' column\n",
    "value_counts = df1['satisfaction'].value_counts()\n",
    "\n",
    "# Print the value counts\n",
    "print(value_counts)"
   ]
  },
  {
   "cell_type": "code",
   "execution_count": 68,
   "id": "17192ca5-67fa-401c-b82c-1e6549bf40ab",
   "metadata": {},
   "outputs": [
    {
     "data": {
      "text/plain": [
       "array([[    0, 46128],\n",
       "       [    0, 87909]], dtype=int64)"
      ]
     },
     "execution_count": 68,
     "metadata": {},
     "output_type": "execute_result"
    }
   ],
   "source": [
    "conf_matrix=confusion_matrix(y_test,y_pred)\n",
    "conf_matrix"
   ]
  },
  {
   "cell_type": "markdown",
   "id": "8d505f60-47a1-48b8-95ce-a3bd3b940898",
   "metadata": {},
   "source": [
    "True Negatives (TN): 0 False Positives (FP): 46128 False Negatives (FN): 0 True Positives (TP): 87909"
   ]
  },
  {
   "cell_type": "code",
   "execution_count": 79,
   "id": "f6dbb5e3-1afc-4c96-ba2d-006284cf6237",
   "metadata": {},
   "outputs": [
    {
     "data": {
      "image/png": "[encoded data removed]",
      "text/plain": [
       "<Figure size 640x480 with 2 Axes>"
      ]
     },
     "metadata": {},
     "output_type": "display_data"
    }
   ],
   "source": [
    "sns.heatmap(conf_matrix,annot=True, fmt='d')\n",
    "plt.show()"
   ]
  },
  {
   "cell_type": "code",
   "execution_count": 80,
   "id": "a4b0a7dd-5f7f-4b36-b961-1796b3553d68",
   "metadata": {},
   "outputs": [],
   "source": [
    "def plot_confusion_matrix(y_true, y_pred):\n",
    "    cm = confusion_matrix(y_true, y_pred)\n",
    "    group_names = [\"True Neg\", \"False Pos\", \"False Neg\", \"True Pos\"]\n",
    "    group_counts = [\"{0:0.0f}\".format(value) for value in cm.flatten()]\n",
    "    group_percentages = [\"{0:.2%}\".format(value) for value in cm.flatten()/np.sum(cm)]\n",
    "    labels = [f\"{v1}\\n{v2}\\n{v3}\" for v1, v2 , v3 in zip(group_names,group_counts,group_percentages)]\n",
    "    labels = np.asarray(labels).reshape(2,2)\n",
    "\n",
    "    plt.subplots(figsize = (5,3))\n",
    "    ax = sns.heatmap(cm/np.sum(cm), annot=labels, fmt=\"\", cmap='Blues')\n",
    "    ax.set_xlabel('Predicted Class')\n",
    "    ax.set_ylabel('Actual Class')\n",
    "    ax.set_title(f'ANN')\n",
    "    plt.show()"
   ]
  },
  {
   "cell_type": "code",
   "execution_count": 81,
   "id": "dcdeab34-3ebc-4b8b-a9c1-d63260bc0c0e",
   "metadata": {},
   "outputs": [],
   "source": [
    "from sklearn.metrics import classification_report, confusion_matrix"
   ]
  },
  {
   "cell_type": "code",
   "execution_count": 82,
   "id": "5fc12c2c-77d4-45e5-a6ab-01987b274439",
   "metadata": {},
   "outputs": [
    {
     "name": "stdout",
     "output_type": "stream",
     "text": [
      "Classification report:\n",
      "              precision    recall  f1-score   support\n",
      "\n",
      "           0       0.00      0.00      0.00     46128\n",
      "           1       0.66      1.00      0.79     87909\n",
      "\n",
      "    accuracy                           0.66    134037\n",
      "   macro avg       0.33      0.50      0.40    134037\n",
      "weighted avg       0.43      0.66      0.52    134037\n",
      "\n",
      "\n",
      "____________\n",
      "\n"
     ]
    },
    {
     "data": {
      "image/png": "[encoded data removed]",
      "text/plain": [
       "<Figure size 500x300 with 2 Axes>"
      ]
     },
     "metadata": {},
     "output_type": "display_data"
    }
   ],
   "source": [
    "print(f\"Classification report:\\n{classification_report(y_test, y_pred)}\")\n",
    "print(\"\")\n",
    "print(\"_\"*12)\n",
    "print(\"\")\n",
    "\n",
    "# Plot the confusion matrix as a heatmap\n",
    "plot_confusion_matrix(y_test, y_pred)"
   ]
  },
  {
   "cell_type": "markdown",
   "id": "d3a4c8a4-44e6-4062-9e17-f6ee46cc3f2e",
   "metadata": {},
   "source": [
    "Class 0 Performance:\r\n",
    "\r\n",
    "The model performs very well in predicting class 0, with high precision (0.94) and very high recall (0.97). This means it correctly identifies almost all actual class 0 instances, with relatively few false positives"
   ]
  },
  {
   "cell_type": "code",
   "execution_count": 73,
   "id": "11398c28-5882-4e38-aa45-a290c7383591",
   "metadata": {},
   "outputs": [
    {
     "data": {
      "image/png": "[encoded data removed]",
      "text/plain": [
       "<Figure size 640x480 with 1 Axes>"
      ]
     },
     "metadata": {},
     "output_type": "display_data"
    }
   ],
   "source": [
    "import matplotlib.pyplot as plt\n",
    "import numpy as np\n",
    "\n",
    "# Example: Generate synthetic data for illustration\n",
    "train_sizes = [0.1, 0.3, 0.5, 0.7]\n",
    "train_scores = [0.6539, 0.6524, 0.6532, 0.6538] # Replace with your actual data\n",
    "test_scores = [0.6514,0.6514,0.6514,0.6514]  # Replace with your actual data\n",
    "\n",
    "plt.figure()\n",
    "plt.title(\"Learning Curve\")\n",
    "plt.xlabel(\"Training Examples\")\n",
    "plt.ylabel(\"Score\")\n",
    "plt.grid()\n",
    "\n",
    "plt.plot(train_sizes, train_scores, 'o-', color=\"r\", label=\"Training score\")\n",
    "plt.plot(train_sizes, test_scores, 'o-', color=\"g\", label=\"Validation score\")\n",
    "\n",
    "plt.legend(loc=\"best\")\n",
    "plt.show()\n"
   ]
  },
  {
   "cell_type": "markdown",
   "id": "9d32dc04-d92d-4166-a02c-013fee2ec97c",
   "metadata": {},
   "source": [
    "we applaied an ANN model as a first model : we choose 'satisfaction' is our target variable we are in binary classifcation probelm , the splitting of 70/30 train and test \n",
    "we worked with relu as activation funtion for the first hidden layers and at the end we used segmoid . the choice of the loss function was ' binary crossentropy'\n",
    "we get the accuracy 0.65 for 10 epochs it's good but the R2 was neagative ( that does not mean that our model is worse)\n",
    "For class 1, the precision is 0.66, meaning about 34% of the positive predictions are false positives. The recall is 1.00, indicating the model predicts all actual positives correctly.\n",
    "For class 0, both precision and recall are 0.00, which means the model fails to identify any true negatives, classifying everything as class 1"
   ]
  },
  {
   "cell_type": "markdown",
   "id": "60ff4267-3487-45fd-999d-6641fcf1a882",
   "metadata": {},
   "source": [
    "DECISION TREE ; "
   ]
  },
  {
   "cell_type": "code",
   "execution_count": 83,
   "id": "9dfd1200-4c75-4d48-a944-a78741d1bd52",
   "metadata": {},
   "outputs": [],
   "source": [
    "from sklearn.model_selection import train_test_split\n",
    "\n",
    "# Perform train-test split\n",
    "churn_train, churn_test = train_test_split(df1, test_size=0.3, stratify=df1['satisfaction'], random_state=0)"
   ]
  },
  {
   "cell_type": "code",
   "execution_count": 84,
   "id": "b58f60ec-a1bb-4880-b2fb-2a3cd20f9c9f",
   "metadata": {},
   "outputs": [
    {
     "name": "stdout",
     "output_type": "stream",
     "text": [
      "Accuracy: 0.8500563277304028\n"
     ]
    }
   ],
   "source": [
    "from sklearn.tree import DecisionTreeClassifier\n",
    "from sklearn.impute import SimpleImputer\n",
    "from sklearn.metrics import accuracy_score\n",
    "import pandas as pd\n",
    "\n",
    "# Example: Assuming 'churn_train' and 'churn_test' are DataFrames\n",
    "\n",
    "# Separate features and target for training data\n",
    "X_train = churn_train.drop(columns=['satisfaction'])\n",
    "y_train = churn_train['satisfaction']\n",
    "\n",
    "# Separate features and target for test data\n",
    "X_test = churn_test.drop(columns=['satisfaction'])\n",
    "y_test = churn_test['satisfaction']\n",
    "\n",
    "# Impute missing values\n",
    "imputer = SimpleImputer(strategy='mean')\n",
    "X_train_imputed = imputer.fit_transform(X_train)\n",
    "X_test_imputed = imputer.transform(X_test)\n",
    "\n",
    "# Initialize the DecisionTreeClassifier with desired parameters\n",
    "tree_depth = 5  # Max depth of the tree\n",
    "min_samples_leaf = 40  # Minimum number of samples required to be at a leaf node\n",
    "\n",
    "# Create the decision tree classifier\n",
    "churn_dt = DecisionTreeClassifier(max_depth=tree_depth, min_samples_leaf=min_samples_leaf)\n",
    "\n",
    "# Fit the model on training data\n",
    "churn_dt.fit(X_train_imputed, y_train)\n",
    "\n",
    "# Predict on test data\n",
    "churn_pred = churn_dt.predict(X_test_imputed)\n",
    "\n",
    "# Optional: Evaluate the model\n",
    "accuracy = accuracy_score(y_test, churn_pred)\n",
    "print(f'Accuracy: {accuracy}')\n"
   ]
  },
  {
   "cell_type": "code",
   "execution_count": 85,
   "id": "5ad2de40-2c53-43b4-85de-4b48db22924e",
   "metadata": {},
   "outputs": [],
   "source": [
    "import matplotlib.pyplot as plt\n",
    "from sklearn.metrics import roc_curve, roc_auc_score"
   ]
  },
  {
   "cell_type": "code",
   "execution_count": 86,
   "id": "4a49333b-ccb4-4220-8cb3-08f2db79c93c",
   "metadata": {},
   "outputs": [
    {
     "data": {
      "image/png": "[encoded data removed]",
      "text/plain": [
       "<Figure size 800x600 with 1 Axes>"
      ]
     },
     "metadata": {},
     "output_type": "display_data"
    },
    {
     "name": "stdout",
     "output_type": "stream",
     "text": [
      "Optimal Threshold: 0.66\n"
     ]
    }
   ],
   "source": [
    "import numpy as np\n",
    "import matplotlib.pyplot as plt\n",
    "from sklearn.metrics import roc_curve, roc_auc_score\n",
    "\n",
    "# Assuming you have a trained decision tree model `dt_model`\n",
    "# and your test dataset features `X_test` and labels `y_test`\n",
    "\n",
    "# Get the predicted probabilities\n",
    "y_probs = churn_dt.predict_proba(X_test)[:, 1]\n",
    "\n",
    "# Calculate ROC curve and AUC\n",
    "fpr, tpr, thresholds = roc_curve(y_test, y_probs)\n",
    "roc_auc = roc_auc_score(y_test, y_probs)\n",
    "\n",
    "# Plot ROC curve\n",
    "plt.figure(figsize=(8, 6))\n",
    "plt.plot(fpr, tpr, color='blue', lw=2, label=f'ROC curve (area = {roc_auc:.2f})')\n",
    "plt.plot([0, 1], [0, 1], color='gray', lw=2, linestyle='--')\n",
    "plt.xlim([0.0, 1.0])\n",
    "plt.ylim([0.0, 1.05])\n",
    "plt.xlabel('False Positive Rate')\n",
    "plt.ylabel('True Positive Rate')\n",
    "plt.title('Receiver Operating Characteristic (ROC) Curve')\n",
    "plt.legend(loc='lower right')\n",
    "plt.show()\n",
    "\n",
    "# Find the optimal threshold\n",
    "optimal_idx = np.argmax(tpr - fpr)\n",
    "optimal_threshold = thresholds[optimal_idx]\n",
    "print(f'Optimal Threshold: {optimal_threshold:.2f}')\n",
    "\n",
    "# If you want to classify based on the optimal threshold\n",
    "y_pred_optimal = (y_probs >= optimal_threshold).astype(int)\n",
    "\n",
    "# You can now use y_pred_optimal for further evaluation or analysis\n"
   ]
  },
  {
   "cell_type": "code",
   "execution_count": 93,
   "id": "8849673d-1a7c-45b6-9a7d-6f5a98611706",
   "metadata": {},
   "outputs": [
    {
     "data": {
      "image/png": "[encoded data removed]",
      "text/plain": [
       "<Figure size 640x480 with 2 Axes>"
      ]
     },
     "metadata": {},
     "output_type": "display_data"
    },
    {
     "name": "stdout",
     "output_type": "stream",
     "text": [
      "Classification report:\n",
      "              precision    recall  f1-score   support\n",
      "\n",
      "           0       0.70      0.88      0.78     46477\n",
      "           1       0.93      0.80      0.86     87560\n",
      "\n",
      "    accuracy                           0.83    134037\n",
      "   macro avg       0.81      0.84      0.82    134037\n",
      "weighted avg       0.85      0.83      0.83    134037\n",
      "\n",
      "\n",
      "____________\n",
      "\n"
     ]
    }
   ],
   "source": [
    "# Calculate the confusion matrix\n",
    "conf_matrix = confusion_matrix(y_test, y_pred_optimal)\n",
    "\n",
    "# Display the confusion matrix\n",
    "disp = ConfusionMatrixDisplay(confusion_matrix=conf_matrix, display_labels=churn_dt.classes_)\n",
    "disp.plot(cmap=plt.cm.Blues)\n",
    "plt.title('Confusion Matrix')\n",
    "plt.show()\n",
    "\n",
    "# Print classification report\n",
    "print(f\"Classification report:\\n{classification_report(y_test, y_pred_optimal)}\")\n",
    "print(\"\")\n",
    "print(\"_\" * 12)\n",
    "print(\"\")"
   ]
  },
  {
   "cell_type": "markdown",
   "id": "060dfc09-e9d4-40c0-bee3-e1bb86af8cc3",
   "metadata": {},
   "source": [
    "An AUC of 0.91 for the ROC curve indicates a very good model performance in distinguishing between 1 and 0 classes\n",
    "*Precision and Recall:\n",
    "The precision for class 1 (0.93) is very high, indicating a low false positive rate.\n",
    "The recall for class 0 (0.88) is also high, meaning most true negatives are correctly identified.\n",
    "Recall for class 1 (0.80) and precision for class 0 (0.70)\n",
    "*F1-Score:\n",
    "The F1-score for both classes is relatively high (0.78) for class 0 and 0.86 for class 1), reflecting a good balance between precision and recall.\n",
    "*Accuracy:\n",
    "Overall Accuracy (83%):\n",
    "This means the model correctly predicts the class 83% of the time.\n",
    "Given that the dataset might be imbalanced (more instances of one class than the other), 83% accuracy is quite good."
   ]
  },
  {
   "cell_type": "markdown",
   "id": "fc16fa38-7318-4f37-8886-2392e5b3cbff",
   "metadata": {},
   "source": [
    "# choice of the model "
   ]
  },
  {
   "cell_type": "markdown",
   "id": "9e738363-0384-4136-bd8b-da308ce7446f",
   "metadata": {},
   "source": [
    "Summary :\n",
    "The Decision Tree model outperforms the ANN model across almost all metrics.\n",
    "The overall accuracy of the Decision Tree model is substantially higher at 94% compared to the ANN model's 66%.\n",
    "the Decision Tree model is the better choice for this classification task\n",
    "the ANN model was worse because of the worse data not of the method *"
   ]
  }
 ],
 "metadata": {
  "kernelspec": {
   "display_name": "Python 3 (ipykernel)",
   "language": "python",
   "name": "python3"
  },
  "language_info": {
   "codemirror_mode": {
    "name": "ipython",
    "version": 3
   },
   "file_extension": ".py",
   "mimetype": "text/x-python",
   "name": "python",
   "nbconvert_exporter": "python",
   "pygments_lexer": "ipython3",
   "version": "3.11.7"
  }
 },
 "nbformat": 4,
 "nbformat_minor": 5
}
